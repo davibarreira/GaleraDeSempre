{
 "cells": [
  {
   "cell_type": "code",
   "execution_count": 5,
   "id": "9d84c1cc-2f0d-4c4c-bbad-91d8c9e3d5d6",
   "metadata": {},
   "outputs": [
    {
     "name": "stderr",
     "output_type": "stream",
     "text": [
      "\u001b[32m\u001b[1m  Activating\u001b[22m\u001b[39m project at `~/Main/EMAp/GaleraDeSempre`\n",
      "┌ Info: Precompiling VegaLite [112f6efa-9a02-5b7d-90c0-432ed331239a]\n",
      "└ @ Base loading.jl:1423\n"
     ]
    }
   ],
   "source": [
    "using Pkg\n",
    "Pkg.activate(\".\")\n",
    "using DataFrames\n",
    "using CSV\n",
    "using VegaLite"
   ]
  },
  {
   "cell_type": "code",
   "execution_count": 7,
   "id": "ab0a9232-e3fc-4594-b807-015086d6fe0c",
   "metadata": {},
   "outputs": [],
   "source": [
    "df = CSV.read(\"DesafioDeSempre.csv\",DataFrame);"
   ]
  },
  {
   "cell_type": "code",
   "execution_count": 33,
   "id": "f2ef0b57-eb14-4c6b-8912-f5070c366516",
   "metadata": {},
   "outputs": [
    {
     "data": {
      "text/plain": [
       "20"
      ]
     },
     "execution_count": 33,
     "metadata": {},
     "output_type": "execute_result"
    }
   ],
   "source": [
    "maximum(df.Semana)"
   ]
  },
  {
   "cell_type": "code",
   "execution_count": 147,
   "id": "04300760-9e8f-433b-8446-b27d752c122c",
   "metadata": {},
   "outputs": [
    {
     "data": {
      "text/html": [
       "<div class=\"data-frame\"><p>260 rows × 4 columns</p><table class=\"data-frame\"><thead><tr><th></th><th>Pessoa</th><th>Acumulado</th><th>Semana</th><th>Exercicios</th></tr><tr><th></th><th title=\"String15\">String15</th><th title=\"Int64\">Int64</th><th title=\"Int64\">Int64</th><th title=\"Int64\">Int64</th></tr></thead><tbody><tr><th>1</th><td>Davi</td><td>3</td><td>1</td><td>3</td></tr><tr><th>2</th><td>Davi</td><td>5</td><td>2</td><td>2</td></tr><tr><th>3</th><td>Davi</td><td>5</td><td>3</td><td>0</td></tr><tr><th>4</th><td>Davi</td><td>11</td><td>4</td><td>6</td></tr><tr><th>5</th><td>Davi</td><td>12</td><td>5</td><td>1</td></tr><tr><th>6</th><td>Davi</td><td>15</td><td>6</td><td>3</td></tr><tr><th>7</th><td>Davi</td><td>17</td><td>7</td><td>2</td></tr><tr><th>8</th><td>Davi</td><td>19</td><td>8</td><td>2</td></tr><tr><th>9</th><td>Davi</td><td>20</td><td>9</td><td>1</td></tr><tr><th>10</th><td>Davi</td><td>21</td><td>10</td><td>1</td></tr><tr><th>11</th><td>Davi</td><td>24</td><td>11</td><td>3</td></tr><tr><th>12</th><td>Davi</td><td>26</td><td>12</td><td>2</td></tr><tr><th>13</th><td>Davi</td><td>28</td><td>13</td><td>2</td></tr><tr><th>14</th><td>Davi</td><td>30</td><td>14</td><td>2</td></tr><tr><th>15</th><td>Davi</td><td>32</td><td>15</td><td>2</td></tr><tr><th>16</th><td>Davi</td><td>32</td><td>16</td><td>0</td></tr><tr><th>17</th><td>Davi</td><td>35</td><td>17</td><td>3</td></tr><tr><th>18</th><td>Davi</td><td>38</td><td>18</td><td>3</td></tr><tr><th>19</th><td>Davi</td><td>41</td><td>19</td><td>3</td></tr><tr><th>20</th><td>Davi</td><td>45</td><td>20</td><td>4</td></tr><tr><th>21</th><td>Lara</td><td>4</td><td>1</td><td>4</td></tr><tr><th>22</th><td>Lara</td><td>6</td><td>2</td><td>2</td></tr><tr><th>23</th><td>Lara</td><td>6</td><td>3</td><td>0</td></tr><tr><th>24</th><td>Lara</td><td>11</td><td>4</td><td>5</td></tr><tr><th>25</th><td>Lara</td><td>12</td><td>5</td><td>1</td></tr><tr><th>26</th><td>Lara</td><td>12</td><td>6</td><td>0</td></tr><tr><th>27</th><td>Lara</td><td>12</td><td>7</td><td>0</td></tr><tr><th>28</th><td>Lara</td><td>13</td><td>8</td><td>1</td></tr><tr><th>29</th><td>Lara</td><td>13</td><td>9</td><td>0</td></tr><tr><th>30</th><td>Lara</td><td>13</td><td>10</td><td>0</td></tr><tr><th>&vellip;</th><td>&vellip;</td><td>&vellip;</td><td>&vellip;</td><td>&vellip;</td></tr></tbody></table></div>"
      ],
      "text/latex": [
       "\\begin{tabular}{r|cccc}\n",
       "\t& Pessoa & Acumulado & Semana & Exercicios\\\\\n",
       "\t\\hline\n",
       "\t& String15 & Int64 & Int64 & Int64\\\\\n",
       "\t\\hline\n",
       "\t1 & Davi & 3 & 1 & 3 \\\\\n",
       "\t2 & Davi & 5 & 2 & 2 \\\\\n",
       "\t3 & Davi & 5 & 3 & 0 \\\\\n",
       "\t4 & Davi & 11 & 4 & 6 \\\\\n",
       "\t5 & Davi & 12 & 5 & 1 \\\\\n",
       "\t6 & Davi & 15 & 6 & 3 \\\\\n",
       "\t7 & Davi & 17 & 7 & 2 \\\\\n",
       "\t8 & Davi & 19 & 8 & 2 \\\\\n",
       "\t9 & Davi & 20 & 9 & 1 \\\\\n",
       "\t10 & Davi & 21 & 10 & 1 \\\\\n",
       "\t11 & Davi & 24 & 11 & 3 \\\\\n",
       "\t12 & Davi & 26 & 12 & 2 \\\\\n",
       "\t13 & Davi & 28 & 13 & 2 \\\\\n",
       "\t14 & Davi & 30 & 14 & 2 \\\\\n",
       "\t15 & Davi & 32 & 15 & 2 \\\\\n",
       "\t16 & Davi & 32 & 16 & 0 \\\\\n",
       "\t17 & Davi & 35 & 17 & 3 \\\\\n",
       "\t18 & Davi & 38 & 18 & 3 \\\\\n",
       "\t19 & Davi & 41 & 19 & 3 \\\\\n",
       "\t20 & Davi & 45 & 20 & 4 \\\\\n",
       "\t21 & Lara & 4 & 1 & 4 \\\\\n",
       "\t22 & Lara & 6 & 2 & 2 \\\\\n",
       "\t23 & Lara & 6 & 3 & 0 \\\\\n",
       "\t24 & Lara & 11 & 4 & 5 \\\\\n",
       "\t25 & Lara & 12 & 5 & 1 \\\\\n",
       "\t26 & Lara & 12 & 6 & 0 \\\\\n",
       "\t27 & Lara & 12 & 7 & 0 \\\\\n",
       "\t28 & Lara & 13 & 8 & 1 \\\\\n",
       "\t29 & Lara & 13 & 9 & 0 \\\\\n",
       "\t30 & Lara & 13 & 10 & 0 \\\\\n",
       "\t$\\dots$ & $\\dots$ & $\\dots$ & $\\dots$ & $\\dots$ \\\\\n",
       "\\end{tabular}\n"
      ],
      "text/plain": [
       "\u001b[1m260×4 DataFrame\u001b[0m\n",
       "\u001b[1m Row \u001b[0m│\u001b[1m Pessoa   \u001b[0m\u001b[1m Acumulado \u001b[0m\u001b[1m Semana \u001b[0m\u001b[1m Exercicios \u001b[0m\n",
       "\u001b[1m     \u001b[0m│\u001b[90m String15 \u001b[0m\u001b[90m Int64     \u001b[0m\u001b[90m Int64  \u001b[0m\u001b[90m Int64      \u001b[0m\n",
       "─────┼─────────────────────────────────────────\n",
       "   1 │ Davi              3       1           3\n",
       "   2 │ Davi              5       2           2\n",
       "   3 │ Davi              5       3           0\n",
       "   4 │ Davi             11       4           6\n",
       "   5 │ Davi             12       5           1\n",
       "   6 │ Davi             15       6           3\n",
       "   7 │ Davi             17       7           2\n",
       "   8 │ Davi             19       8           2\n",
       "   9 │ Davi             20       9           1\n",
       "  10 │ Davi             21      10           1\n",
       "  11 │ Davi             24      11           3\n",
       "  ⋮  │    ⋮          ⋮        ⋮         ⋮\n",
       " 251 │ Marcela          40      11           4\n",
       " 252 │ Marcela          41      12           1\n",
       " 253 │ Marcela          41      13           0\n",
       " 254 │ Marcela          41      14           0\n",
       " 255 │ Marcela          44      15           3\n",
       " 256 │ Marcela          48      16           4\n",
       " 257 │ Marcela          52      17           4\n",
       " 258 │ Marcela          56      18           4\n",
       " 259 │ Marcela          60      19           4\n",
       " 260 │ Marcela          64      20           4\n",
       "\u001b[36m                               239 rows omitted\u001b[0m"
      ]
     },
     "execution_count": 147,
     "metadata": {},
     "output_type": "execute_result"
    }
   ],
   "source": [
    "df = sort(df,:Semana)\n",
    "\n",
    "df = combine(groupby(df,:Pessoa),:Exercicios=>cumsum=>:Acumulado, :Semana, :Exercicios)"
   ]
  },
  {
   "cell_type": "code",
   "execution_count": 148,
   "id": "a4d6c06e-d22d-4f8c-9199-6c902f673157",
   "metadata": {},
   "outputs": [
    {
     "data": {
      "text/html": [
       "<div class=\"data-frame\"><p>13 rows × 3 columns</p><table class=\"data-frame\"><thead><tr><th></th><th>Pessoa</th><th>Exercicios</th><th>MediaSemanal</th></tr><tr><th></th><th title=\"String15\">String15</th><th title=\"Int64\">Int64</th><th title=\"Float64\">Float64</th></tr></thead><tbody><tr><th>1</th><td>Davi</td><td>45</td><td>2.25</td></tr><tr><th>2</th><td>Lara</td><td>29</td><td>1.45</td></tr><tr><th>3</th><td>Alberto</td><td>94</td><td>4.7</td></tr><tr><th>4</th><td>Mineiro</td><td>21</td><td>1.05</td></tr><tr><th>5</th><td>Mariana</td><td>25</td><td>1.25</td></tr><tr><th>6</th><td>Leo</td><td>92</td><td>4.6</td></tr><tr><th>7</th><td>Cecília</td><td>56</td><td>2.8</td></tr><tr><th>8</th><td>Henrique</td><td>87</td><td>4.35</td></tr><tr><th>9</th><td>Quezia</td><td>82</td><td>4.1</td></tr><tr><th>10</th><td>Ravi</td><td>23</td><td>1.15</td></tr><tr><th>11</th><td>Naina</td><td>6</td><td>0.3</td></tr><tr><th>12</th><td>Gabriel</td><td>28</td><td>1.4</td></tr><tr><th>13</th><td>Marcela</td><td>64</td><td>3.2</td></tr></tbody></table></div>"
      ],
      "text/latex": [
       "\\begin{tabular}{r|ccc}\n",
       "\t& Pessoa & Exercicios & MediaSemanal\\\\\n",
       "\t\\hline\n",
       "\t& String15 & Int64 & Float64\\\\\n",
       "\t\\hline\n",
       "\t1 & Davi & 45 & 2.25 \\\\\n",
       "\t2 & Lara & 29 & 1.45 \\\\\n",
       "\t3 & Alberto & 94 & 4.7 \\\\\n",
       "\t4 & Mineiro & 21 & 1.05 \\\\\n",
       "\t5 & Mariana & 25 & 1.25 \\\\\n",
       "\t6 & Leo & 92 & 4.6 \\\\\n",
       "\t7 & Cecília & 56 & 2.8 \\\\\n",
       "\t8 & Henrique & 87 & 4.35 \\\\\n",
       "\t9 & Quezia & 82 & 4.1 \\\\\n",
       "\t10 & Ravi & 23 & 1.15 \\\\\n",
       "\t11 & Naina & 6 & 0.3 \\\\\n",
       "\t12 & Gabriel & 28 & 1.4 \\\\\n",
       "\t13 & Marcela & 64 & 3.2 \\\\\n",
       "\\end{tabular}\n"
      ],
      "text/plain": [
       "\u001b[1m13×3 DataFrame\u001b[0m\n",
       "\u001b[1m Row \u001b[0m│\u001b[1m Pessoa   \u001b[0m\u001b[1m Exercicios \u001b[0m\u001b[1m MediaSemanal \u001b[0m\n",
       "\u001b[1m     \u001b[0m│\u001b[90m String15 \u001b[0m\u001b[90m Int64      \u001b[0m\u001b[90m Float64      \u001b[0m\n",
       "─────┼────────────────────────────────────\n",
       "   1 │ Davi              45          2.25\n",
       "   2 │ Lara              29          1.45\n",
       "   3 │ Alberto           94          4.7\n",
       "   4 │ Mineiro           21          1.05\n",
       "   5 │ Mariana           25          1.25\n",
       "   6 │ Leo               92          4.6\n",
       "   7 │ Cecília           56          2.8\n",
       "   8 │ Henrique          87          4.35\n",
       "   9 │ Quezia            82          4.1\n",
       "  10 │ Ravi              23          1.15\n",
       "  11 │ Naina              6          0.3\n",
       "  12 │ Gabriel           28          1.4\n",
       "  13 │ Marcela           64          3.2"
      ]
     },
     "execution_count": 148,
     "metadata": {},
     "output_type": "execute_result"
    }
   ],
   "source": [
    "using Statistics\n",
    "gdf = combine(groupby(df, :Pessoa), :Exercicios => sum => :Exercicios, :Exercicios => mean => :MediaSemanal, renamecols=false)"
   ]
  },
  {
   "cell_type": "code",
   "execution_count": 127,
   "id": "4b51fb41-bbb4-45a2-8418-2ed6ffb19ef9",
   "metadata": {},
   "outputs": [
    {
     "data": {
      "application/vnd.vegalite.v4+json": {
       "data": {
        "values": [
         {
          "Exercicios": 45,
          "MediaSemanal": 2.25,
          "Pessoa": "Davi"
         },
         {
          "Exercicios": 29,
          "MediaSemanal": 1.45,
          "Pessoa": "Lara"
         },
         {
          "Exercicios": 94,
          "MediaSemanal": 4.7,
          "Pessoa": "Alberto"
         },
         {
          "Exercicios": 21,
          "MediaSemanal": 1.05,
          "Pessoa": "Mineiro"
         },
         {
          "Exercicios": 25,
          "MediaSemanal": 1.25,
          "Pessoa": "Mariana"
         },
         {
          "Exercicios": 92,
          "MediaSemanal": 4.6,
          "Pessoa": "Leo"
         },
         {
          "Exercicios": 56,
          "MediaSemanal": 2.8,
          "Pessoa": "Cecília"
         },
         {
          "Exercicios": 87,
          "MediaSemanal": 4.35,
          "Pessoa": "Henrique"
         },
         {
          "Exercicios": 82,
          "MediaSemanal": 4.1,
          "Pessoa": "Quezia"
         },
         {
          "Exercicios": 23,
          "MediaSemanal": 1.15,
          "Pessoa": "Ravi"
         },
         {
          "Exercicios": 6,
          "MediaSemanal": 0.3,
          "Pessoa": "Naina"
         },
         {
          "Exercicios": 28,
          "MediaSemanal": 1.4,
          "Pessoa": "Gabriel"
         },
         {
          "Exercicios": 64,
          "MediaSemanal": 3.2,
          "Pessoa": "Marcela"
         }
        ]
       },
       "encoding": {
        "color": {
         "field": "Pessoa",
         "type": "nominal"
        },
        "x": {
         "field": "Pessoa",
         "sort": "-y",
         "type": "nominal"
        },
        "y": {
         "field": "MediaSemanal",
         "type": "quantitative"
        }
       },
       "height": 400,
       "mark": "bar",
       "title": "Desafio de Sempre - Média de Dias Exercitados por Semana (Semanas 1 até 20)",
       "width": 1000
      },
      "image/png": "[encoded data removed]",
      "image/svg+xml": [
       "<?xml version=\"1.0\" encoding=\"utf-8\"?>\n",
       "<!DOCTYPE svg PUBLIC \"-//W3C//DTD SVG 1.1//EN\" \"http://www.w3.org/Graphics/SVG/1.1/DTD/svg11.dtd\">\n",
       "<svg xmlns=\"http://www.w3.org/2000/svg\" xmlns:xlink=\"http://www.w3.org/1999/xlink\" version=\"1.1\" class=\"marks\" width=\"1126\" height=\"499\" viewBox=\"0 0 1126 499\"><rect width=\"1126\" height=\"499\" fill=\"white\"/><g fill=\"none\" stroke-miterlimit=\"10\" transform=\"translate(42,27)\"><g class=\"mark-group role-frame root\" role=\"graphics-object\" aria-roledescription=\"group mark container\"><g transform=\"translate(0,0)\"><path class=\"background\" aria-hidden=\"true\" d=\"M0.5,0.5h1000v400h-1000Z\" stroke=\"#ddd\"/><g><g class=\"mark-group role-axis\" aria-hidden=\"true\"><g transform=\"translate(0.5,0.5)\"><path class=\"background\" aria-hidden=\"true\" d=\"M0,0h0v0h0Z\" pointer-events=\"none\"/><g><g class=\"mark-rule role-axis-grid\" pointer-events=\"none\"><line transform=\"translate(0,400)\" x2=\"1000\" y2=\"0\" stroke=\"#ddd\" stroke-width=\"1\" opacity=\"1\"/><line transform=\"translate(0,360)\" x2=\"1000\" y2=\"0\" stroke=\"#ddd\" stroke-width=\"1\" opacity=\"1\"/><line transform=\"translate(0,320)\" x2=\"1000\" y2=\"0\" stroke=\"#ddd\" stroke-width=\"1\" opacity=\"1\"/><line transform=\"translate(0,280)\" x2=\"1000\" y2=\"0\" stroke=\"#ddd\" stroke-width=\"1\" opacity=\"1\"/><line transform=\"translate(0,240)\" x2=\"1000\" y2=\"0\" stroke=\"#ddd\" stroke-width=\"1\" opacity=\"1\"/><line transform=\"translate(0,200)\" x2=\"1000\" y2=\"0\" stroke=\"#ddd\" stroke-width=\"1\" opacity=\"1\"/><line transform=\"translate(0,160)\" x2=\"1000\" y2=\"0\" stroke=\"#ddd\" stroke-width=\"1\" opacity=\"1\"/><line transform=\"translate(0,120)\" x2=\"1000\" y2=\"0\" stroke=\"#ddd\" stroke-width=\"1\" opacity=\"1\"/><line transform=\"translate(0,80)\" x2=\"1000\" y2=\"0\" stroke=\"#ddd\" stroke-width=\"1\" opacity=\"1\"/><line transform=\"translate(0,40)\" x2=\"1000\" y2=\"0\" stroke=\"#ddd\" stroke-width=\"1\" opacity=\"1\"/><line transform=\"translate(0,0)\" x2=\"1000\" y2=\"0\" stroke=\"#ddd\" stroke-width=\"1\" opacity=\"1\"/></g></g><path class=\"foreground\" aria-hidden=\"true\" d=\"\" pointer-events=\"none\" display=\"none\"/></g></g><g class=\"mark-group role-axis\" role=\"graphics-symbol\" aria-roledescription=\"axis\" aria-label=\"X-axis titled 'Pessoa' for a discrete scale with 13 values: Alberto, Leo, Henrique, Quezia, Marcela, ending with Naina\"><g transform=\"translate(0.5,400.5)\"><path class=\"background\" aria-hidden=\"true\" d=\"M0,0h0v0h0Z\" pointer-events=\"none\"/><g><g class=\"mark-rule role-axis-tick\" pointer-events=\"none\"><line transform=\"translate(38,0)\" x2=\"0\" y2=\"5\" stroke=\"#888\" stroke-width=\"1\" opacity=\"1\"/><line transform=\"translate(115,0)\" x2=\"0\" y2=\"5\" stroke=\"#888\" stroke-width=\"1\" opacity=\"1\"/><line transform=\"translate(192,0)\" x2=\"0\" y2=\"5\" stroke=\"#888\" stroke-width=\"1\" opacity=\"1\"/><line transform=\"translate(269,0)\" x2=\"0\" y2=\"5\" stroke=\"#888\" stroke-width=\"1\" opacity=\"1\"/><line transform=\"translate(346,0)\" x2=\"0\" y2=\"5\" stroke=\"#888\" stroke-width=\"1\" opacity=\"1\"/><line transform=\"translate(423,0)\" x2=\"0\" y2=\"5\" stroke=\"#888\" stroke-width=\"1\" opacity=\"1\"/><line transform=\"translate(500,0)\" x2=\"0\" y2=\"5\" stroke=\"#888\" stroke-width=\"1\" opacity=\"1\"/><line transform=\"translate(576,0)\" x2=\"0\" y2=\"5\" stroke=\"#888\" stroke-width=\"1\" opacity=\"1\"/><line transform=\"translate(653,0)\" x2=\"0\" y2=\"5\" stroke=\"#888\" stroke-width=\"1\" opacity=\"1\"/><line transform=\"translate(730,0)\" x2=\"0\" y2=\"5\" stroke=\"#888\" stroke-width=\"1\" opacity=\"1\"/><line transform=\"translate(807,0)\" x2=\"0\" y2=\"5\" stroke=\"#888\" stroke-width=\"1\" opacity=\"1\"/><line transform=\"translate(884,0)\" x2=\"0\" y2=\"5\" stroke=\"#888\" stroke-width=\"1\" opacity=\"1\"/><line transform=\"translate(961,0)\" x2=\"0\" y2=\"5\" stroke=\"#888\" stroke-width=\"1\" opacity=\"1\"/></g><g class=\"mark-text role-axis-label\" pointer-events=\"none\"><text text-anchor=\"end\" transform=\"translate(37.96153846153848,7) rotate(270) translate(0,3)\" font-family=\"sans-serif\" font-size=\"10px\" fill=\"#000\" opacity=\"1\">Alberto</text><text text-anchor=\"end\" transform=\"translate(114.8846153846154,7) rotate(270) translate(0,3)\" font-family=\"sans-serif\" font-size=\"10px\" fill=\"#000\" opacity=\"1\">Leo</text><text text-anchor=\"end\" transform=\"translate(191.80769230769232,7) rotate(270) translate(0,3)\" font-family=\"sans-serif\" font-size=\"10px\" fill=\"#000\" opacity=\"1\">Henrique</text><text text-anchor=\"end\" transform=\"translate(268.7307692307693,7) rotate(270) translate(0,3)\" font-family=\"sans-serif\" font-size=\"10px\" fill=\"#000\" opacity=\"1\">Quezia</text><text text-anchor=\"end\" transform=\"translate(345.6538461538462,7) rotate(270) translate(0,3)\" font-family=\"sans-serif\" font-size=\"10px\" fill=\"#000\" opacity=\"1\">Marcela</text><text text-anchor=\"end\" transform=\"translate(422.5769230769231,7) rotate(270) translate(0,3)\" font-family=\"sans-serif\" font-size=\"10px\" fill=\"#000\" opacity=\"1\">Cecília</text><text text-anchor=\"end\" transform=\"translate(499.5,7) rotate(270) translate(0,3)\" font-family=\"sans-serif\" font-size=\"10px\" fill=\"#000\" opacity=\"1\">Davi</text><text text-anchor=\"end\" transform=\"translate(576.423076923077,7) rotate(270) translate(0,3)\" font-family=\"sans-serif\" font-size=\"10px\" fill=\"#000\" opacity=\"1\">Lara</text><text text-anchor=\"end\" transform=\"translate(653.3461538461539,7) rotate(270) translate(0,3)\" font-family=\"sans-serif\" font-size=\"10px\" fill=\"#000\" opacity=\"1\">Gabriel</text><text text-anchor=\"end\" transform=\"translate(730.2692307692308,7) rotate(270) translate(0,3)\" font-family=\"sans-serif\" font-size=\"10px\" fill=\"#000\" opacity=\"1\">Mariana</text><text text-anchor=\"end\" transform=\"translate(807.1923076923077,7) rotate(270) translate(0,3)\" font-family=\"sans-serif\" font-size=\"10px\" fill=\"#000\" opacity=\"1\">Ravi</text><text text-anchor=\"end\" transform=\"translate(884.1153846153846,7) rotate(270) translate(0,3)\" font-family=\"sans-serif\" font-size=\"10px\" fill=\"#000\" opacity=\"1\">Mineiro</text><text text-anchor=\"end\" transform=\"translate(961.0384615384615,7) rotate(270) translate(0,3)\" font-family=\"sans-serif\" font-size=\"10px\" fill=\"#000\" opacity=\"1\">Naina</text></g><g class=\"mark-rule role-axis-domain\" pointer-events=\"none\"><line transform=\"translate(0,0)\" x2=\"1000\" y2=\"0\" stroke=\"#888\" stroke-width=\"1\" opacity=\"1\"/></g><g class=\"mark-text role-axis-title\" pointer-events=\"none\"><text text-anchor=\"middle\" transform=\"translate(500,65)\" font-family=\"sans-serif\" font-size=\"11px\" font-weight=\"bold\" fill=\"#000\" opacity=\"1\">Pessoa</text></g></g><path class=\"foreground\" aria-hidden=\"true\" d=\"\" pointer-events=\"none\" display=\"none\"/></g></g><g class=\"mark-group role-axis\" role=\"graphics-symbol\" aria-roledescription=\"axis\" aria-label=\"Y-axis titled 'MediaSemanal' for a linear scale with values from 0 to 5\"><g transform=\"translate(0.5,0.5)\"><path class=\"background\" aria-hidden=\"true\" d=\"M0,0h0v0h0Z\" pointer-events=\"none\"/><g><g class=\"mark-rule role-axis-tick\" pointer-events=\"none\"><line transform=\"translate(0,400)\" x2=\"-5\" y2=\"0\" stroke=\"#888\" stroke-width=\"1\" opacity=\"1\"/><line transform=\"translate(0,360)\" x2=\"-5\" y2=\"0\" stroke=\"#888\" stroke-width=\"1\" opacity=\"1\"/><line transform=\"translate(0,320)\" x2=\"-5\" y2=\"0\" stroke=\"#888\" stroke-width=\"1\" opacity=\"1\"/><line transform=\"translate(0,280)\" x2=\"-5\" y2=\"0\" stroke=\"#888\" stroke-width=\"1\" opacity=\"1\"/><line transform=\"translate(0,240)\" x2=\"-5\" y2=\"0\" stroke=\"#888\" stroke-width=\"1\" opacity=\"1\"/><line transform=\"translate(0,200)\" x2=\"-5\" y2=\"0\" stroke=\"#888\" stroke-width=\"1\" opacity=\"1\"/><line transform=\"translate(0,160)\" x2=\"-5\" y2=\"0\" stroke=\"#888\" stroke-width=\"1\" opacity=\"1\"/><line transform=\"translate(0,120)\" x2=\"-5\" y2=\"0\" stroke=\"#888\" stroke-width=\"1\" opacity=\"1\"/><line transform=\"translate(0,80)\" x2=\"-5\" y2=\"0\" stroke=\"#888\" stroke-width=\"1\" opacity=\"1\"/><line transform=\"translate(0,40)\" x2=\"-5\" y2=\"0\" stroke=\"#888\" stroke-width=\"1\" opacity=\"1\"/><line transform=\"translate(0,0)\" x2=\"-5\" y2=\"0\" stroke=\"#888\" stroke-width=\"1\" opacity=\"1\"/></g><g class=\"mark-text role-axis-label\" pointer-events=\"none\"><text text-anchor=\"end\" transform=\"translate(-7,403)\" font-family=\"sans-serif\" font-size=\"10px\" fill=\"#000\" opacity=\"1\">0.0</text><text text-anchor=\"end\" transform=\"translate(-7,363)\" font-family=\"sans-serif\" font-size=\"10px\" fill=\"#000\" opacity=\"1\">0.5</text><text text-anchor=\"end\" transform=\"translate(-7,323)\" font-family=\"sans-serif\" font-size=\"10px\" fill=\"#000\" opacity=\"1\">1.0</text><text text-anchor=\"end\" transform=\"translate(-7,283)\" font-family=\"sans-serif\" font-size=\"10px\" fill=\"#000\" opacity=\"1\">1.5</text><text text-anchor=\"end\" transform=\"translate(-7,243)\" font-family=\"sans-serif\" font-size=\"10px\" fill=\"#000\" opacity=\"1\">2.0</text><text text-anchor=\"end\" transform=\"translate(-7,203)\" font-family=\"sans-serif\" font-size=\"10px\" fill=\"#000\" opacity=\"1\">2.5</text><text text-anchor=\"end\" transform=\"translate(-7,163)\" font-family=\"sans-serif\" font-size=\"10px\" fill=\"#000\" opacity=\"1\">3.0</text><text text-anchor=\"end\" transform=\"translate(-7,123.00000000000001)\" font-family=\"sans-serif\" font-size=\"10px\" fill=\"#000\" opacity=\"1\">3.5</text><text text-anchor=\"end\" transform=\"translate(-7,82.99999999999999)\" font-family=\"sans-serif\" font-size=\"10px\" fill=\"#000\" opacity=\"1\">4.0</text><text text-anchor=\"end\" transform=\"translate(-7,42.99999999999999)\" font-family=\"sans-serif\" font-size=\"10px\" fill=\"#000\" opacity=\"1\">4.5</text><text text-anchor=\"end\" transform=\"translate(-7,3)\" font-family=\"sans-serif\" font-size=\"10px\" fill=\"#000\" opacity=\"1\">5.0</text></g><g class=\"mark-rule role-axis-domain\" pointer-events=\"none\"><line transform=\"translate(0,400)\" x2=\"0\" y2=\"-400\" stroke=\"#888\" stroke-width=\"1\" opacity=\"1\"/></g><g class=\"mark-text role-axis-title\" pointer-events=\"none\"><text text-anchor=\"middle\" transform=\"translate(-26,200) rotate(-90) translate(0,-2)\" font-family=\"sans-serif\" font-size=\"11px\" font-weight=\"bold\" fill=\"#000\" opacity=\"1\">MediaSemanal</text></g></g><path class=\"foreground\" aria-hidden=\"true\" d=\"\" pointer-events=\"none\" display=\"none\"/></g></g><g class=\"mark-rect role-mark marks\" role=\"graphics-object\" aria-roledescription=\"rect mark container\"><path aria-label=\"Pessoa: Davi; MediaSemanal: 2.25\" role=\"graphics-symbol\" aria-roledescription=\"bar\" d=\"M465.3846153846154,220.00000000000003h69.23076923076923v179.99999999999997h-69.23076923076923Z\" fill=\"#e45756\"/><path aria-label=\"Pessoa: Lara; MediaSemanal: 1.45\" role=\"graphics-symbol\" aria-roledescription=\"bar\" d=\"M542.3076923076924,284h69.23076923076923v116h-69.23076923076923Z\" fill=\"#eeca3b\"/><path aria-label=\"Pessoa: Alberto; MediaSemanal: 4.7\" role=\"graphics-symbol\" aria-roledescription=\"bar\" d=\"M3.846153846153868,23.99999999999998h69.23076923076923v376h-69.23076923076923Z\" fill=\"#4c78a8\"/><path aria-label=\"Pessoa: Mineiro; MediaSemanal: 1.05\" role=\"graphics-symbol\" aria-roledescription=\"bar\" d=\"M850,316h69.23076923076923v84h-69.23076923076923Z\" fill=\"#bab0ac\"/><path aria-label=\"Pessoa: Mariana; MediaSemanal: 1.25\" role=\"graphics-symbol\" aria-roledescription=\"bar\" d=\"M696.1538461538462,300h69.23076923076923v100h-69.23076923076923Z\" fill=\"#9d755d\"/><path aria-label=\"Pessoa: Leo; MediaSemanal: 4.6\" role=\"graphics-symbol\" aria-roledescription=\"bar\" d=\"M80.76923076923079,32.00000000000003h69.23076923076923v368h-69.23076923076923Z\" fill=\"#b279a2\"/><path aria-label=\"Pessoa: Cecília; MediaSemanal: 2.8\" role=\"graphics-symbol\" aria-roledescription=\"bar\" d=\"M388.46153846153845,176.00000000000003h69.23076923076923v223.99999999999997h-69.23076923076923Z\" fill=\"#f58518\"/><path aria-label=\"Pessoa: Henrique; MediaSemanal: 4.35\" role=\"graphics-symbol\" aria-roledescription=\"bar\" d=\"M157.6923076923077,52.00000000000004h69.23076923076923v347.99999999999994h-69.23076923076923Z\" fill=\"#54a24b\"/><path aria-label=\"Pessoa: Quezia; MediaSemanal: 4.1\" role=\"graphics-symbol\" aria-roledescription=\"bar\" d=\"M234.61538461538464,72.00000000000001h69.23076923076923v328h-69.23076923076923Z\" fill=\"#f58518\"/><path aria-label=\"Pessoa: Ravi; MediaSemanal: 1.15\" role=\"graphics-symbol\" aria-roledescription=\"bar\" d=\"M773.0769230769231,308h69.23076923076923v92h-69.23076923076923Z\" fill=\"#e45756\"/><path aria-label=\"Pessoa: Naina; MediaSemanal: 0.3\" role=\"graphics-symbol\" aria-roledescription=\"bar\" d=\"M926.9230769230769,376h69.23076923076923v24h-69.23076923076923Z\" fill=\"#4c78a8\"/><path aria-label=\"Pessoa: Gabriel; MediaSemanal: 1.4\" role=\"graphics-symbol\" aria-roledescription=\"bar\" d=\"M619.2307692307693,288h69.23076923076923v112h-69.23076923076923Z\" fill=\"#72b7b2\"/><path aria-label=\"Pessoa: Marcela; MediaSemanal: 3.2\" role=\"graphics-symbol\" aria-roledescription=\"bar\" d=\"M311.53846153846155,144h69.23076923076923v256h-69.23076923076923Z\" fill=\"#ff9da6\"/></g><g class=\"mark-group role-legend\" role=\"graphics-symbol\" aria-roledescription=\"legend\" aria-label=\"Symbol legend titled 'Pessoa' for fill color with 13 values: Alberto, Cecília, Davi, Gabriel, Henrique, ending with Ravi\"><g transform=\"translate(1018,0)\"><path class=\"background\" aria-hidden=\"true\" d=\"M0,0h61v183h-61Z\" pointer-events=\"none\"/><g><g class=\"mark-group role-legend-entry\"><g transform=\"translate(0,16)\"><path class=\"background\" aria-hidden=\"true\" d=\"M0,0h0v0h0Z\" pointer-events=\"none\"/><g><g class=\"mark-group role-scope\" role=\"graphics-object\" aria-roledescription=\"group mark container\"><g transform=\"translate(0,0)\"><path class=\"background\" aria-hidden=\"true\" d=\"M0,0h61v11h-61Z\" pointer-events=\"none\" opacity=\"1\"/><g><g class=\"mark-symbol role-legend-symbol\" pointer-events=\"none\"><path transform=\"translate(6,6)\" d=\"M-5,-5h10v10h-10Z\" fill=\"#4c78a8\" stroke-width=\"1.5\" opacity=\"1\"/></g><g class=\"mark-text role-legend-label\" pointer-events=\"none\"><text text-anchor=\"start\" transform=\"translate(16,9)\" font-family=\"sans-serif\" font-size=\"10px\" fill=\"#000\" opacity=\"1\">Alberto</text></g></g><path class=\"foreground\" aria-hidden=\"true\" d=\"\" pointer-events=\"none\" display=\"none\"/></g><g transform=\"translate(0,13)\"><path class=\"background\" aria-hidden=\"true\" d=\"M0,0h61v11h-61Z\" pointer-events=\"none\" opacity=\"1\"/><g><g class=\"mark-symbol role-legend-symbol\" pointer-events=\"none\"><path transform=\"translate(6,6)\" d=\"M-5,-5h10v10h-10Z\" fill=\"#f58518\" stroke-width=\"1.5\" opacity=\"1\"/></g><g class=\"mark-text role-legend-label\" pointer-events=\"none\"><text text-anchor=\"start\" transform=\"translate(16,9)\" font-family=\"sans-serif\" font-size=\"10px\" fill=\"#000\" opacity=\"1\">Cecília</text></g></g><path class=\"foreground\" aria-hidden=\"true\" d=\"\" pointer-events=\"none\" display=\"none\"/></g><g transform=\"translate(0,26)\"><path class=\"background\" aria-hidden=\"true\" d=\"M0,0h61v11h-61Z\" pointer-events=\"none\" opacity=\"1\"/><g><g class=\"mark-symbol role-legend-symbol\" pointer-events=\"none\"><path transform=\"translate(6,6)\" d=\"M-5,-5h10v10h-10Z\" fill=\"#e45756\" stroke-width=\"1.5\" opacity=\"1\"/></g><g class=\"mark-text role-legend-label\" pointer-events=\"none\"><text text-anchor=\"start\" transform=\"translate(16,9)\" font-family=\"sans-serif\" font-size=\"10px\" fill=\"#000\" opacity=\"1\">Davi</text></g></g><path class=\"foreground\" aria-hidden=\"true\" d=\"\" pointer-events=\"none\" display=\"none\"/></g><g transform=\"translate(0,39)\"><path class=\"background\" aria-hidden=\"true\" d=\"M0,0h61v11h-61Z\" pointer-events=\"none\" opacity=\"1\"/><g><g class=\"mark-symbol role-legend-symbol\" pointer-events=\"none\"><path transform=\"translate(6,6)\" d=\"M-5,-5h10v10h-10Z\" fill=\"#72b7b2\" stroke-width=\"1.5\" opacity=\"1\"/></g><g class=\"mark-text role-legend-label\" pointer-events=\"none\"><text text-anchor=\"start\" transform=\"translate(16,9)\" font-family=\"sans-serif\" font-size=\"10px\" fill=\"#000\" opacity=\"1\">Gabriel</text></g></g><path class=\"foreground\" aria-hidden=\"true\" d=\"\" pointer-events=\"none\" display=\"none\"/></g><g transform=\"translate(0,52)\"><path class=\"background\" aria-hidden=\"true\" d=\"M0,0h61v11h-61Z\" pointer-events=\"none\" opacity=\"1\"/><g><g class=\"mark-symbol role-legend-symbol\" pointer-events=\"none\"><path transform=\"translate(6,6)\" d=\"M-5,-5h10v10h-10Z\" fill=\"#54a24b\" stroke-width=\"1.5\" opacity=\"1\"/></g><g class=\"mark-text role-legend-label\" pointer-events=\"none\"><text text-anchor=\"start\" transform=\"translate(16,9)\" font-family=\"sans-serif\" font-size=\"10px\" fill=\"#000\" opacity=\"1\">Henrique</text></g></g><path class=\"foreground\" aria-hidden=\"true\" d=\"\" pointer-events=\"none\" display=\"none\"/></g><g transform=\"translate(0,65)\"><path class=\"background\" aria-hidden=\"true\" d=\"M0,0h61v11h-61Z\" pointer-events=\"none\" opacity=\"1\"/><g><g class=\"mark-symbol role-legend-symbol\" pointer-events=\"none\"><path transform=\"translate(6,6)\" d=\"M-5,-5h10v10h-10Z\" fill=\"#eeca3b\" stroke-width=\"1.5\" opacity=\"1\"/></g><g class=\"mark-text role-legend-label\" pointer-events=\"none\"><text text-anchor=\"start\" transform=\"translate(16,9)\" font-family=\"sans-serif\" font-size=\"10px\" fill=\"#000\" opacity=\"1\">Lara</text></g></g><path class=\"foreground\" aria-hidden=\"true\" d=\"\" pointer-events=\"none\" display=\"none\"/></g><g transform=\"translate(0,78)\"><path class=\"background\" aria-hidden=\"true\" d=\"M0,0h61v11h-61Z\" pointer-events=\"none\" opacity=\"1\"/><g><g class=\"mark-symbol role-legend-symbol\" pointer-events=\"none\"><path transform=\"translate(6,6)\" d=\"M-5,-5h10v10h-10Z\" fill=\"#b279a2\" stroke-width=\"1.5\" opacity=\"1\"/></g><g class=\"mark-text role-legend-label\" pointer-events=\"none\"><text text-anchor=\"start\" transform=\"translate(16,9)\" font-family=\"sans-serif\" font-size=\"10px\" fill=\"#000\" opacity=\"1\">Leo</text></g></g><path class=\"foreground\" aria-hidden=\"true\" d=\"\" pointer-events=\"none\" display=\"none\"/></g><g transform=\"translate(0,91)\"><path class=\"background\" aria-hidden=\"true\" d=\"M0,0h61v11h-61Z\" pointer-events=\"none\" opacity=\"1\"/><g><g class=\"mark-symbol role-legend-symbol\" pointer-events=\"none\"><path transform=\"translate(6,6)\" d=\"M-5,-5h10v10h-10Z\" fill=\"#ff9da6\" stroke-width=\"1.5\" opacity=\"1\"/></g><g class=\"mark-text role-legend-label\" pointer-events=\"none\"><text text-anchor=\"start\" transform=\"translate(16,9)\" font-family=\"sans-serif\" font-size=\"10px\" fill=\"#000\" opacity=\"1\">Marcela</text></g></g><path class=\"foreground\" aria-hidden=\"true\" d=\"\" pointer-events=\"none\" display=\"none\"/></g><g transform=\"translate(0,104)\"><path class=\"background\" aria-hidden=\"true\" d=\"M0,0h61v11h-61Z\" pointer-events=\"none\" opacity=\"1\"/><g><g class=\"mark-symbol role-legend-symbol\" pointer-events=\"none\"><path transform=\"translate(6,6)\" d=\"M-5,-5h10v10h-10Z\" fill=\"#9d755d\" stroke-width=\"1.5\" opacity=\"1\"/></g><g class=\"mark-text role-legend-label\" pointer-events=\"none\"><text text-anchor=\"start\" transform=\"translate(16,9)\" font-family=\"sans-serif\" font-size=\"10px\" fill=\"#000\" opacity=\"1\">Mariana</text></g></g><path class=\"foreground\" aria-hidden=\"true\" d=\"\" pointer-events=\"none\" display=\"none\"/></g><g transform=\"translate(0,117)\"><path class=\"background\" aria-hidden=\"true\" d=\"M0,0h61v11h-61Z\" pointer-events=\"none\" opacity=\"1\"/><g><g class=\"mark-symbol role-legend-symbol\" pointer-events=\"none\"><path transform=\"translate(6,6)\" d=\"M-5,-5h10v10h-10Z\" fill=\"#bab0ac\" stroke-width=\"1.5\" opacity=\"1\"/></g><g class=\"mark-text role-legend-label\" pointer-events=\"none\"><text text-anchor=\"start\" transform=\"translate(16,9)\" font-family=\"sans-serif\" font-size=\"10px\" fill=\"#000\" opacity=\"1\">Mineiro</text></g></g><path class=\"foreground\" aria-hidden=\"true\" d=\"\" pointer-events=\"none\" display=\"none\"/></g><g transform=\"translate(0,130)\"><path class=\"background\" aria-hidden=\"true\" d=\"M0,0h61v11h-61Z\" pointer-events=\"none\" opacity=\"1\"/><g><g class=\"mark-symbol role-legend-symbol\" pointer-events=\"none\"><path transform=\"translate(6,6)\" d=\"M-5,-5h10v10h-10Z\" fill=\"#4c78a8\" stroke-width=\"1.5\" opacity=\"1\"/></g><g class=\"mark-text role-legend-label\" pointer-events=\"none\"><text text-anchor=\"start\" transform=\"translate(16,9)\" font-family=\"sans-serif\" font-size=\"10px\" fill=\"#000\" opacity=\"1\">Naina</text></g></g><path class=\"foreground\" aria-hidden=\"true\" d=\"\" pointer-events=\"none\" display=\"none\"/></g><g transform=\"translate(0,143)\"><path class=\"background\" aria-hidden=\"true\" d=\"M0,0h61v11h-61Z\" pointer-events=\"none\" opacity=\"1\"/><g><g class=\"mark-symbol role-legend-symbol\" pointer-events=\"none\"><path transform=\"translate(6,6)\" d=\"M-5,-5h10v10h-10Z\" fill=\"#f58518\" stroke-width=\"1.5\" opacity=\"1\"/></g><g class=\"mark-text role-legend-label\" pointer-events=\"none\"><text text-anchor=\"start\" transform=\"translate(16,9)\" font-family=\"sans-serif\" font-size=\"10px\" fill=\"#000\" opacity=\"1\">Quezia</text></g></g><path class=\"foreground\" aria-hidden=\"true\" d=\"\" pointer-events=\"none\" display=\"none\"/></g><g transform=\"translate(0,156)\"><path class=\"background\" aria-hidden=\"true\" d=\"M0,0h61v11h-61Z\" pointer-events=\"none\" opacity=\"1\"/><g><g class=\"mark-symbol role-legend-symbol\" pointer-events=\"none\"><path transform=\"translate(6,6)\" d=\"M-5,-5h10v10h-10Z\" fill=\"#e45756\" stroke-width=\"1.5\" opacity=\"1\"/></g><g class=\"mark-text role-legend-label\" pointer-events=\"none\"><text text-anchor=\"start\" transform=\"translate(16,9)\" font-family=\"sans-serif\" font-size=\"10px\" fill=\"#000\" opacity=\"1\">Ravi</text></g></g><path class=\"foreground\" aria-hidden=\"true\" d=\"\" pointer-events=\"none\" display=\"none\"/></g></g></g><path class=\"foreground\" aria-hidden=\"true\" d=\"\" pointer-events=\"none\" display=\"none\"/></g></g><g class=\"mark-text role-legend-title\" pointer-events=\"none\"><text text-anchor=\"start\" transform=\"translate(0,9)\" font-family=\"sans-serif\" font-size=\"11px\" font-weight=\"bold\" fill=\"#000\" opacity=\"1\">Pessoa</text></g></g><path class=\"foreground\" aria-hidden=\"true\" d=\"\" pointer-events=\"none\" display=\"none\"/></g></g><g class=\"mark-group role-title\"><g transform=\"translate(500,-22)\"><path class=\"background\" aria-hidden=\"true\" d=\"M0,0h0v0h0Z\" pointer-events=\"none\"/><g><g class=\"mark-text role-title-text\" role=\"graphics-symbol\" aria-roledescription=\"title\" aria-label=\"Title text 'Desafio de Sempre - Média de Dias Exercitados por Semana (Semanas 1 até 20)'\" pointer-events=\"none\"><text text-anchor=\"middle\" transform=\"translate(0,10)\" font-family=\"sans-serif\" font-size=\"13px\" font-weight=\"bold\" fill=\"#000\" opacity=\"1\">Desafio de Sempre - Média de Dias Exercitados por Semana (Semanas 1 até 20)</text></g></g><path class=\"foreground\" aria-hidden=\"true\" d=\"\" pointer-events=\"none\" display=\"none\"/></g></g></g><path class=\"foreground\" aria-hidden=\"true\" d=\"\" display=\"none\"/></g></g></g></svg>\n"
      ],
      "text/plain": [
       "@vlplot(\n",
       "    data={\n",
       "        values=...\n",
       "    },\n",
       "    title=\"Desafio de Sempre - Média de Dias Exercitados por Semana (Semanas 1 até 20)\",\n",
       "    mark=\"bar\",\n",
       "    width=1000,\n",
       "    height=400,\n",
       "    encoding={\n",
       "        color={\n",
       "            field=\"Pessoa\"\n",
       "        },\n",
       "        x={\n",
       "            sort=\"-y\",\n",
       "            field=\"Pessoa\"\n",
       "        },\n",
       "        y={\n",
       "            field=\"MediaSemanal\"\n",
       "        }\n",
       "    }\n",
       ")"
      ]
     },
     "execution_count": 127,
     "metadata": {},
     "output_type": "execute_result"
    }
   ],
   "source": [
    "p1 = @vlplot(\n",
    "    data=gdf,\n",
    "    title=\"Desafio de Sempre - Média de Dias Exercitados por Semana (Semanas 1 até 20)\",\n",
    "    color=:Pessoa,\n",
    "    x={:Pessoa, sort=\"-y\"},\n",
    "    y={\"MediaSemanal\"},\n",
    "    mark = {type=\"text\", align=\"center\", baseline = \"middle\", dy = -5},\n",
    "    text = {\"MediaSemanal\", sort=\"-y\"},\n",
    "    width=1000,\n",
    "    height=400,\n",
    ")\n",
    "p2 = @vlplot(\n",
    "    data=gdf,\n",
    "    title=\"Desafio de Sempre - Média de Dias Exercitados por Semana (Semanas 1 até 20)\",\n",
    "    color=:Pessoa,\n",
    "    x={:Pessoa, sort=\"-y\"},\n",
    "    y={\"MediaSemanal\"},\n",
    "    mark = :bar,\n",
    "    width=1000,\n",
    "    height=400,\n",
    ")\n"
   ]
  },
  {
   "cell_type": "code",
   "execution_count": 152,
   "id": "519007bb-a44b-47ad-95dd-a7dfbe36f94f",
   "metadata": {},
   "outputs": [
    {
     "data": {
      "application/vnd.vegalite.v4+json": {
       "data": {
        "values": [
         {
          "Acumulado": 3,
          "Exercicios": 3,
          "Pessoa": "Davi",
          "Semana": 1
         },
         {
          "Acumulado": 5,
          "Exercicios": 2,
          "Pessoa": "Davi",
          "Semana": 2
         },
         {
          "Acumulado": 5,
          "Exercicios": 0,
          "Pessoa": "Davi",
          "Semana": 3
         },
         {
          "Acumulado": 11,
          "Exercicios": 6,
          "Pessoa": "Davi",
          "Semana": 4
         },
         {
          "Acumulado": 12,
          "Exercicios": 1,
          "Pessoa": "Davi",
          "Semana": 5
         },
         {
          "Acumulado": 15,
          "Exercicios": 3,
          "Pessoa": "Davi",
          "Semana": 6
         },
         {
          "Acumulado": 17,
          "Exercicios": 2,
          "Pessoa": "Davi",
          "Semana": 7
         },
         {
          "Acumulado": 19,
          "Exercicios": 2,
          "Pessoa": "Davi",
          "Semana": 8
         },
         {
          "Acumulado": 20,
          "Exercicios": 1,
          "Pessoa": "Davi",
          "Semana": 9
         },
         {
          "Acumulado": 21,
          "Exercicios": 1,
          "Pessoa": "Davi",
          "Semana": 10
         },
         {
          "Acumulado": 24,
          "Exercicios": 3,
          "Pessoa": "Davi",
          "Semana": 11
         },
         {
          "Acumulado": 26,
          "Exercicios": 2,
          "Pessoa": "Davi",
          "Semana": 12
         },
         {
          "Acumulado": 28,
          "Exercicios": 2,
          "Pessoa": "Davi",
          "Semana": 13
         },
         {
          "Acumulado": 30,
          "Exercicios": 2,
          "Pessoa": "Davi",
          "Semana": 14
         },
         {
          "Acumulado": 32,
          "Exercicios": 2,
          "Pessoa": "Davi",
          "Semana": 15
         },
         {
          "Acumulado": 32,
          "Exercicios": 0,
          "Pessoa": "Davi",
          "Semana": 16
         },
         {
          "Acumulado": 35,
          "Exercicios": 3,
          "Pessoa": "Davi",
          "Semana": 17
         },
         {
          "Acumulado": 38,
          "Exercicios": 3,
          "Pessoa": "Davi",
          "Semana": 18
         },
         {
          "Acumulado": 41,
          "Exercicios": 3,
          "Pessoa": "Davi",
          "Semana": 19
         },
         {
          "Acumulado": 45,
          "Exercicios": 4,
          "Pessoa": "Davi",
          "Semana": 20
         },
         {
          "Acumulado": 4,
          "Exercicios": 4,
          "Pessoa": "Lara",
          "Semana": 1
         },
         {
          "Acumulado": 6,
          "Exercicios": 2,
          "Pessoa": "Lara",
          "Semana": 2
         },
         {
          "Acumulado": 6,
          "Exercicios": 0,
          "Pessoa": "Lara",
          "Semana": 3
         },
         {
          "Acumulado": 11,
          "Exercicios": 5,
          "Pessoa": "Lara",
          "Semana": 4
         },
         {
          "Acumulado": 12,
          "Exercicios": 1,
          "Pessoa": "Lara",
          "Semana": 5
         },
         {
          "Acumulado": 12,
          "Exercicios": 0,
          "Pessoa": "Lara",
          "Semana": 6
         },
         {
          "Acumulado": 12,
          "Exercicios": 0,
          "Pessoa": "Lara",
          "Semana": 7
         },
         {
          "Acumulado": 13,
          "Exercicios": 1,
          "Pessoa": "Lara",
          "Semana": 8
         },
         {
          "Acumulado": 13,
          "Exercicios": 0,
          "Pessoa": "Lara",
          "Semana": 9
         },
         {
          "Acumulado": 13,
          "Exercicios": 0,
          "Pessoa": "Lara",
          "Semana": 10
         },
         {
          "Acumulado": 14,
          "Exercicios": 1,
          "Pessoa": "Lara",
          "Semana": 11
         },
         {
          "Acumulado": 14,
          "Exercicios": 0,
          "Pessoa": "Lara",
          "Semana": 12
         },
         {
          "Acumulado": 17,
          "Exercicios": 3,
          "Pessoa": "Lara",
          "Semana": 13
         },
         {
          "Acumulado": 21,
          "Exercicios": 4,
          "Pessoa": "Lara",
          "Semana": 14
         },
         {
          "Acumulado": 23,
          "Exercicios": 2,
          "Pessoa": "Lara",
          "Semana": 15
         },
         {
          "Acumulado": 24,
          "Exercicios": 1,
          "Pessoa": "Lara",
          "Semana": 16
         },
         {
          "Acumulado": 25,
          "Exercicios": 1,
          "Pessoa": "Lara",
          "Semana": 17
         },
         {
          "Acumulado": 25,
          "Exercicios": 0,
          "Pessoa": "Lara",
          "Semana": 18
         },
         {
          "Acumulado": 26,
          "Exercicios": 1,
          "Pessoa": "Lara",
          "Semana": 19
         },
         {
          "Acumulado": 29,
          "Exercicios": 3,
          "Pessoa": "Lara",
          "Semana": 20
         },
         {
          "Acumulado": 7,
          "Exercicios": 7,
          "Pessoa": "Alberto",
          "Semana": 1
         },
         {
          "Acumulado": 11,
          "Exercicios": 4,
          "Pessoa": "Alberto",
          "Semana": 2
         },
         {
          "Acumulado": 16,
          "Exercicios": 5,
          "Pessoa": "Alberto",
          "Semana": 3
         },
         {
          "Acumulado": 21,
          "Exercicios": 5,
          "Pessoa": "Alberto",
          "Semana": 4
         },
         {
          "Acumulado": 21,
          "Exercicios": 0,
          "Pessoa": "Alberto",
          "Semana": 5
         },
         {
          "Acumulado": 21,
          "Exercicios": 0,
          "Pessoa": "Alberto",
          "Semana": 6
         },
         {
          "Acumulado": 21,
          "Exercicios": 0,
          "Pessoa": "Alberto",
          "Semana": 7
         },
         {
          "Acumulado": 26,
          "Exercicios": 5,
          "Pessoa": "Alberto",
          "Semana": 8
         },
         {
          "Acumulado": 32,
          "Exercicios": 6,
          "Pessoa": "Alberto",
          "Semana": 9
         },
         {
          "Acumulado": 39,
          "Exercicios": 7,
          "Pessoa": "Alberto",
          "Semana": 10
         },
         {
          "Acumulado": 46,
          "Exercicios": 7,
          "Pessoa": "Alberto",
          "Semana": 11
         },
         {
          "Acumulado": 52,
          "Exercicios": 6,
          "Pessoa": "Alberto",
          "Semana": 12
         },
         {
          "Acumulado": 57,
          "Exercicios": 5,
          "Pessoa": "Alberto",
          "Semana": 13
         },
         {
          "Acumulado": 62,
          "Exercicios": 5,
          "Pessoa": "Alberto",
          "Semana": 14
         },
         {
          "Acumulado": 68,
          "Exercicios": 6,
          "Pessoa": "Alberto",
          "Semana": 15
         },
         {
          "Acumulado": 73,
          "Exercicios": 5,
          "Pessoa": "Alberto",
          "Semana": 16
         },
         {
          "Acumulado": 79,
          "Exercicios": 6,
          "Pessoa": "Alberto",
          "Semana": 17
         },
         {
          "Acumulado": 85,
          "Exercicios": 6,
          "Pessoa": "Alberto",
          "Semana": 18
         },
         {
          "Acumulado": 90,
          "Exercicios": 5,
          "Pessoa": "Alberto",
          "Semana": 19
         },
         {
          "Acumulado": 94,
          "Exercicios": 4,
          "Pessoa": "Alberto",
          "Semana": 20
         },
         {
          "Acumulado": 3,
          "Exercicios": 3,
          "Pessoa": "Mineiro",
          "Semana": 1
         },
         {
          "Acumulado": 6,
          "Exercicios": 3,
          "Pessoa": "Mineiro",
          "Semana": 2
         },
         {
          "Acumulado": 8,
          "Exercicios": 2,
          "Pessoa": "Mineiro",
          "Semana": 3
         },
         {
          "Acumulado": 8,
          "Exercicios": 0,
          "Pessoa": "Mineiro",
          "Semana": 4
         },
         {
          "Acumulado": 8,
          "Exercicios": 0,
          "Pessoa": "Mineiro",
          "Semana": 5
         },
         {
          "Acumulado": 8,
          "Exercicios": 0,
          "Pessoa": "Mineiro",
          "Semana": 6
         },
         {
          "Acumulado": 11,
          "Exercicios": 3,
          "Pessoa": "Mineiro",
          "Semana": 7
         },
         {
          "Acumulado": 12,
          "Exercicios": 1,
          "Pessoa": "Mineiro",
          "Semana": 8
         },
         {
          "Acumulado": 14,
          "Exercicios": 2,
          "Pessoa": "Mineiro",
          "Semana": 9
         },
         {
          "Acumulado": 14,
          "Exercicios": 0,
          "Pessoa": "Mineiro",
          "Semana": 10
         },
         {
          "Acumulado": 14,
          "Exercicios": 0,
          "Pessoa": "Mineiro",
          "Semana": 11
         },
         {
          "Acumulado": 15,
          "Exercicios": 1,
          "Pessoa": "Mineiro",
          "Semana": 12
         },
         {
          "Acumulado": 18,
          "Exercicios": 3,
          "Pessoa": "Mineiro",
          "Semana": 13
         },
         {
          "Acumulado": 18,
          "Exercicios": 0,
          "Pessoa": "Mineiro",
          "Semana": 14
         },
         {
          "Acumulado": 19,
          "Exercicios": 1,
          "Pessoa": "Mineiro",
          "Semana": 15
         },
         {
          "Acumulado": 19,
          "Exercicios": 0,
          "Pessoa": "Mineiro",
          "Semana": 16
         },
         {
          "Acumulado": 20,
          "Exercicios": 1,
          "Pessoa": "Mineiro",
          "Semana": 17
         },
         {
          "Acumulado": 21,
          "Exercicios": 1,
          "Pessoa": "Mineiro",
          "Semana": 18
         },
         {
          "Acumulado": 21,
          "Exercicios": 0,
          "Pessoa": "Mineiro",
          "Semana": 19
         },
         {
          "Acumulado": 21,
          "Exercicios": 0,
          "Pessoa": "Mineiro",
          "Semana": 20
         },
         {
          "Acumulado": 3,
          "Exercicios": 3,
          "Pessoa": "Mariana",
          "Semana": 1
         },
         {
          "Acumulado": 7,
          "Exercicios": 4,
          "Pessoa": "Mariana",
          "Semana": 2
         },
         {
          "Acumulado": 9,
          "Exercicios": 2,
          "Pessoa": "Mariana",
          "Semana": 3
         },
         {
          "Acumulado": 9,
          "Exercicios": 0,
          "Pessoa": "Mariana",
          "Semana": 4
         },
         {
          "Acumulado": 10,
          "Exercicios": 1,
          "Pessoa": "Mariana",
          "Semana": 5
         },
         {
          "Acumulado": 10,
          "Exercicios": 0,
          "Pessoa": "Mariana",
          "Semana": 6
         },
         {
          "Acumulado": 14,
          "Exercicios": 4,
          "Pessoa": "Mariana",
          "Semana": 7
         },
         {
          "Acumulado": 15,
          "Exercicios": 1,
          "Pessoa": "Mariana",
          "Semana": 8
         },
         {
          "Acumulado": 17,
          "Exercicios": 2,
          "Pessoa": "Mariana",
          "Semana": 9
         },
         {
          "Acumulado": 17,
          "Exercicios": 0,
          "Pessoa": "Mariana",
          "Semana": 10
         },
         {
          "Acumulado": 17,
          "Exercicios": 0,
          "Pessoa": "Mariana",
          "Semana": 11
         },
         {
          "Acumulado": 18,
          "Exercicios": 1,
          "Pessoa": "Mariana",
          "Semana": 12
         },
         {
          "Acumulado": 21,
          "Exercicios": 3,
          "Pessoa": "Mariana",
          "Semana": 13
         },
         {
          "Acumulado": 21,
          "Exercicios": 0,
          "Pessoa": "Mariana",
          "Semana": 14
         },
         {
          "Acumulado": 22,
          "Exercicios": 1,
          "Pessoa": "Mariana",
          "Semana": 15
         },
         {
          "Acumulado": 23,
          "Exercicios": 1,
          "Pessoa": "Mariana",
          "Semana": 16
         },
         {
          "Acumulado": 24,
          "Exercicios": 1,
          "Pessoa": "Mariana",
          "Semana": 17
         },
         {
          "Acumulado": 25,
          "Exercicios": 1,
          "Pessoa": "Mariana",
          "Semana": 18
         },
         {
          "Acumulado": 25,
          "Exercicios": 0,
          "Pessoa": "Mariana",
          "Semana": 19
         },
         {
          "Acumulado": 25,
          "Exercicios": 0,
          "Pessoa": "Mariana",
          "Semana": 20
         },
         {
          "Acumulado": 5,
          "Exercicios": 5,
          "Pessoa": "Leo",
          "Semana": 1
         },
         {
          "Acumulado": 9,
          "Exercicios": 4,
          "Pessoa": "Leo",
          "Semana": 2
         },
         {
          "Acumulado": 15,
          "Exercicios": 6,
          "Pessoa": "Leo",
          "Semana": 3
         },
         {
          "Acumulado": 21,
          "Exercicios": 6,
          "Pessoa": "Leo",
          "Semana": 4
         },
         {
          "Acumulado": 22,
          "Exercicios": 1,
          "Pessoa": "Leo",
          "Semana": 5
         },
         {
          "Acumulado": 28,
          "Exercicios": 6,
          "Pessoa": "Leo",
          "Semana": 6
         },
         {
          "Acumulado": 34,
          "Exercicios": 6,
          "Pessoa": "Leo",
          "Semana": 7
         },
         {
          "Acumulado": 39,
          "Exercicios": 5,
          "Pessoa": "Leo",
          "Semana": 8
         },
         {
          "Acumulado": 45,
          "Exercicios": 6,
          "Pessoa": "Leo",
          "Semana": 9
         },
         {
          "Acumulado": 51,
          "Exercicios": 6,
          "Pessoa": "Leo",
          "Semana": 10
         },
         {
          "Acumulado": 57,
          "Exercicios": 6,
          "Pessoa": "Leo",
          "Semana": 11
         },
         {
          "Acumulado": 63,
          "Exercicios": 6,
          "Pessoa": "Leo",
          "Semana": 12
         },
         {
          "Acumulado": 66,
          "Exercicios": 3,
          "Pessoa": "Leo",
          "Semana": 13
         },
         {
          "Acumulado": 69,
          "Exercicios": 3,
          "Pessoa": "Leo",
          "Semana": 14
         },
         {
          "Acumulado": 74,
          "Exercicios": 5,
          "Pessoa": "Leo",
          "Semana": 15
         },
         {
          "Acumulado": 79,
          "Exercicios": 5,
          "Pessoa": "Leo",
          "Semana": 16
         },
         {
          "Acumulado": 81,
          "Exercicios": 2,
          "Pessoa": "Leo",
          "Semana": 17
         },
         {
          "Acumulado": 84,
          "Exercicios": 3,
          "Pessoa": "Leo",
          "Semana": 18
         },
         {
          "Acumulado": 90,
          "Exercicios": 6,
          "Pessoa": "Leo",
          "Semana": 19
         },
         {
          "Acumulado": 92,
          "Exercicios": 2,
          "Pessoa": "Leo",
          "Semana": 20
         },
         {
          "Acumulado": 3,
          "Exercicios": 3,
          "Pessoa": "Cecília",
          "Semana": 1
         },
         {
          "Acumulado": 6,
          "Exercicios": 3,
          "Pessoa": "Cecília",
          "Semana": 2
         },
         {
          "Acumulado": 11,
          "Exercicios": 5,
          "Pessoa": "Cecília",
          "Semana": 3
         },
         {
          "Acumulado": 15,
          "Exercicios": 4,
          "Pessoa": "Cecília",
          "Semana": 4
         },
         {
          "Acumulado": 21,
          "Exercicios": 6,
          "Pessoa": "Cecília",
          "Semana": 5
         },
         {
          "Acumulado": 22,
          "Exercicios": 1,
          "Pessoa": "Cecília",
          "Semana": 6
         },
         {
          "Acumulado": 27,
          "Exercicios": 5,
          "Pessoa": "Cecília",
          "Semana": 7
         },
         {
          "Acumulado": 29,
          "Exercicios": 2,
          "Pessoa": "Cecília",
          "Semana": 8
         },
         {
          "Acumulado": 32,
          "Exercicios": 3,
          "Pessoa": "Cecília",
          "Semana": 9
         },
         {
          "Acumulado": 35,
          "Exercicios": 3,
          "Pessoa": "Cecília",
          "Semana": 10
         },
         {
          "Acumulado": 36,
          "Exercicios": 1,
          "Pessoa": "Cecília",
          "Semana": 11
         },
         {
          "Acumulado": 36,
          "Exercicios": 0,
          "Pessoa": "Cecília",
          "Semana": 12
         },
         {
          "Acumulado": 36,
          "Exercicios": 0,
          "Pessoa": "Cecília",
          "Semana": 13
         },
         {
          "Acumulado": 39,
          "Exercicios": 3,
          "Pessoa": "Cecília",
          "Semana": 14
         },
         {
          "Acumulado": 42,
          "Exercicios": 3,
          "Pessoa": "Cecília",
          "Semana": 15
         },
         {
          "Acumulado": 45,
          "Exercicios": 3,
          "Pessoa": "Cecília",
          "Semana": 16
         },
         {
          "Acumulado": 50,
          "Exercicios": 5,
          "Pessoa": "Cecília",
          "Semana": 17
         },
         {
          "Acumulado": 53,
          "Exercicios": 3,
          "Pessoa": "Cecília",
          "Semana": 18
         },
         {
          "Acumulado": 54,
          "Exercicios": 1,
          "Pessoa": "Cecília",
          "Semana": 19
         },
         {
          "Acumulado": 56,
          "Exercicios": 2,
          "Pessoa": "Cecília",
          "Semana": 20
         },
         {
          "Acumulado": 6,
          "Exercicios": 6,
          "Pessoa": "Henrique",
          "Semana": 1
         },
         {
          "Acumulado": 12,
          "Exercicios": 6,
          "Pessoa": "Henrique",
          "Semana": 2
         },
         {
          "Acumulado": 16,
          "Exercicios": 4,
          "Pessoa": "Henrique",
          "Semana": 3
         },
         {
          "Acumulado": 21,
          "Exercicios": 5,
          "Pessoa": "Henrique",
          "Semana": 4
         },
         {
          "Acumulado": 24,
          "Exercicios": 3,
          "Pessoa": "Henrique",
          "Semana": 5
         },
         {
          "Acumulado": 28,
          "Exercicios": 4,
          "Pessoa": "Henrique",
          "Semana": 6
         },
         {
          "Acumulado": 32,
          "Exercicios": 4,
          "Pessoa": "Henrique",
          "Semana": 7
         },
         {
          "Acumulado": 34,
          "Exercicios": 2,
          "Pessoa": "Henrique",
          "Semana": 8
         },
         {
          "Acumulado": 40,
          "Exercicios": 6,
          "Pessoa": "Henrique",
          "Semana": 9
         },
         {
          "Acumulado": 45,
          "Exercicios": 5,
          "Pessoa": "Henrique",
          "Semana": 10
         },
         {
          "Acumulado": 47,
          "Exercicios": 2,
          "Pessoa": "Henrique",
          "Semana": 11
         },
         {
          "Acumulado": 51,
          "Exercicios": 4,
          "Pessoa": "Henrique",
          "Semana": 12
         },
         {
          "Acumulado": 54,
          "Exercicios": 3,
          "Pessoa": "Henrique",
          "Semana": 13
         },
         {
          "Acumulado": 59,
          "Exercicios": 5,
          "Pessoa": "Henrique",
          "Semana": 14
         },
         {
          "Acumulado": 64,
          "Exercicios": 5,
          "Pessoa": "Henrique",
          "Semana": 15
         },
         {
          "Acumulado": 70,
          "Exercicios": 6,
          "Pessoa": "Henrique",
          "Semana": 16
         },
         {
          "Acumulado": 74,
          "Exercicios": 4,
          "Pessoa": "Henrique",
          "Semana": 17
         },
         {
          "Acumulado": 78,
          "Exercicios": 4,
          "Pessoa": "Henrique",
          "Semana": 18
         },
         {
          "Acumulado": 83,
          "Exercicios": 5,
          "Pessoa": "Henrique",
          "Semana": 19
         },
         {
          "Acumulado": 87,
          "Exercicios": 4,
          "Pessoa": "Henrique",
          "Semana": 20
         },
         {
          "Acumulado": 5,
          "Exercicios": 5,
          "Pessoa": "Quezia",
          "Semana": 1
         },
         {
          "Acumulado": 10,
          "Exercicios": 5,
          "Pessoa": "Quezia",
          "Semana": 2
         },
         {
          "Acumulado": 14,
          "Exercicios": 4,
          "Pessoa": "Quezia",
          "Semana": 3
         },
         {
          "Acumulado": 20,
          "Exercicios": 6,
          "Pessoa": "Quezia",
          "Semana": 4
         },
         {
          "Acumulado": 24,
          "Exercicios": 4,
          "Pessoa": "Quezia",
          "Semana": 5
         },
         {
          "Acumulado": 28,
          "Exercicios": 4,
          "Pessoa": "Quezia",
          "Semana": 6
         },
         {
          "Acumulado": 32,
          "Exercicios": 4,
          "Pessoa": "Quezia",
          "Semana": 7
         },
         {
          "Acumulado": 35,
          "Exercicios": 3,
          "Pessoa": "Quezia",
          "Semana": 8
         },
         {
          "Acumulado": 38,
          "Exercicios": 3,
          "Pessoa": "Quezia",
          "Semana": 9
         },
         {
          "Acumulado": 43,
          "Exercicios": 5,
          "Pessoa": "Quezia",
          "Semana": 10
         },
         {
          "Acumulado": 44,
          "Exercicios": 1,
          "Pessoa": "Quezia",
          "Semana": 11
         },
         {
          "Acumulado": 49,
          "Exercicios": 5,
          "Pessoa": "Quezia",
          "Semana": 12
         },
         {
          "Acumulado": 53,
          "Exercicios": 4,
          "Pessoa": "Quezia",
          "Semana": 13
         },
         {
          "Acumulado": 56,
          "Exercicios": 3,
          "Pessoa": "Quezia",
          "Semana": 14
         },
         {
          "Acumulado": 60,
          "Exercicios": 4,
          "Pessoa": "Quezia",
          "Semana": 15
         },
         {
          "Acumulado": 64,
          "Exercicios": 4,
          "Pessoa": "Quezia",
          "Semana": 16
         },
         {
          "Acumulado": 69,
          "Exercicios": 5,
          "Pessoa": "Quezia",
          "Semana": 17
         },
         {
          "Acumulado": 72,
          "Exercicios": 3,
          "Pessoa": "Quezia",
          "Semana": 18
         },
         {
          "Acumulado": 76,
          "Exercicios": 4,
          "Pessoa": "Quezia",
          "Semana": 19
         },
         {
          "Acumulado": 82,
          "Exercicios": 6,
          "Pessoa": "Quezia",
          "Semana": 20
         },
         {
          "Acumulado": 0,
          "Exercicios": 0,
          "Pessoa": "Ravi",
          "Semana": 1
         },
         {
          "Acumulado": 0,
          "Exercicios": 0,
          "Pessoa": "Ravi",
          "Semana": 2
         },
         {
          "Acumulado": 0,
          "Exercicios": 0,
          "Pessoa": "Ravi",
          "Semana": 3
         },
         {
          "Acumulado": 1,
          "Exercicios": 1,
          "Pessoa": "Ravi",
          "Semana": 4
         },
         {
          "Acumulado": 5,
          "Exercicios": 4,
          "Pessoa": "Ravi",
          "Semana": 5
         },
         {
          "Acumulado": 6,
          "Exercicios": 1,
          "Pessoa": "Ravi",
          "Semana": 6
         },
         {
          "Acumulado": 7,
          "Exercicios": 1,
          "Pessoa": "Ravi",
          "Semana": 7
         },
         {
          "Acumulado": 8,
          "Exercicios": 1,
          "Pessoa": "Ravi",
          "Semana": 8
         },
         {
          "Acumulado": 9,
          "Exercicios": 1,
          "Pessoa": "Ravi",
          "Semana": 9
         },
         {
          "Acumulado": 11,
          "Exercicios": 2,
          "Pessoa": "Ravi",
          "Semana": 10
         },
         {
          "Acumulado": 13,
          "Exercicios": 2,
          "Pessoa": "Ravi",
          "Semana": 11
         },
         {
          "Acumulado": 14,
          "Exercicios": 1,
          "Pessoa": "Ravi",
          "Semana": 12
         },
         {
          "Acumulado": 14,
          "Exercicios": 0,
          "Pessoa": "Ravi",
          "Semana": 13
         },
         {
          "Acumulado": 17,
          "Exercicios": 3,
          "Pessoa": "Ravi",
          "Semana": 14
         },
         {
          "Acumulado": 17,
          "Exercicios": 0,
          "Pessoa": "Ravi",
          "Semana": 15
         },
         {
          "Acumulado": 17,
          "Exercicios": 0,
          "Pessoa": "Ravi",
          "Semana": 16
         },
         {
          "Acumulado": 20,
          "Exercicios": 3,
          "Pessoa": "Ravi",
          "Semana": 17
         },
         {
          "Acumulado": 20,
          "Exercicios": 0,
          "Pessoa": "Ravi",
          "Semana": 18
         },
         {
          "Acumulado": 23,
          "Exercicios": 3,
          "Pessoa": "Ravi",
          "Semana": 19
         },
         {
          "Acumulado": 23,
          "Exercicios": 0,
          "Pessoa": "Ravi",
          "Semana": 20
         },
         {
          "Acumulado": 2,
          "Exercicios": 2,
          "Pessoa": "Naina",
          "Semana": 1
         },
         {
          "Acumulado": 2,
          "Exercicios": 0,
          "Pessoa": "Naina",
          "Semana": 2
         },
         {
          "Acumulado": 2,
          "Exercicios": 0,
          "Pessoa": "Naina",
          "Semana": 3
         },
         {
          "Acumulado": 2,
          "Exercicios": 0,
          "Pessoa": "Naina",
          "Semana": 4
         },
         {
          "Acumulado": 2,
          "Exercicios": 0,
          "Pessoa": "Naina",
          "Semana": 5
         },
         {
          "Acumulado": 2,
          "Exercicios": 0,
          "Pessoa": "Naina",
          "Semana": 6
         },
         {
          "Acumulado": 2,
          "Exercicios": 0,
          "Pessoa": "Naina",
          "Semana": 7
         },
         {
          "Acumulado": 3,
          "Exercicios": 1,
          "Pessoa": "Naina",
          "Semana": 8
         },
         {
          "Acumulado": 4,
          "Exercicios": 1,
          "Pessoa": "Naina",
          "Semana": 9
         },
         {
          "Acumulado": 6,
          "Exercicios": 2,
          "Pessoa": "Naina",
          "Semana": 10
         },
         {
          "Acumulado": 6,
          "Exercicios": 0,
          "Pessoa": "Naina",
          "Semana": 11
         },
         {
          "Acumulado": 6,
          "Exercicios": 0,
          "Pessoa": "Naina",
          "Semana": 12
         },
         {
          "Acumulado": 6,
          "Exercicios": 0,
          "Pessoa": "Naina",
          "Semana": 13
         },
         {
          "Acumulado": 6,
          "Exercicios": 0,
          "Pessoa": "Naina",
          "Semana": 14
         },
         {
          "Acumulado": 6,
          "Exercicios": 0,
          "Pessoa": "Naina",
          "Semana": 15
         },
         {
          "Acumulado": 6,
          "Exercicios": 0,
          "Pessoa": "Naina",
          "Semana": 16
         },
         {
          "Acumulado": 6,
          "Exercicios": 0,
          "Pessoa": "Naina",
          "Semana": 17
         },
         {
          "Acumulado": 6,
          "Exercicios": 0,
          "Pessoa": "Naina",
          "Semana": 18
         },
         {
          "Acumulado": 6,
          "Exercicios": 0,
          "Pessoa": "Naina",
          "Semana": 19
         },
         {
          "Acumulado": 6,
          "Exercicios": 0,
          "Pessoa": "Naina",
          "Semana": 20
         },
         {
          "Acumulado": 3,
          "Exercicios": 3,
          "Pessoa": "Gabriel",
          "Semana": 1
         },
         {
          "Acumulado": 6,
          "Exercicios": 3,
          "Pessoa": "Gabriel",
          "Semana": 2
         },
         {
          "Acumulado": 10,
          "Exercicios": 4,
          "Pessoa": "Gabriel",
          "Semana": 3
         },
         {
          "Acumulado": 12,
          "Exercicios": 2,
          "Pessoa": "Gabriel",
          "Semana": 4
         },
         {
          "Acumulado": 12,
          "Exercicios": 0,
          "Pessoa": "Gabriel",
          "Semana": 5
         },
         {
          "Acumulado": 12,
          "Exercicios": 0,
          "Pessoa": "Gabriel",
          "Semana": 6
         },
         {
          "Acumulado": 15,
          "Exercicios": 3,
          "Pessoa": "Gabriel",
          "Semana": 7
         },
         {
          "Acumulado": 17,
          "Exercicios": 2,
          "Pessoa": "Gabriel",
          "Semana": 8
         },
         {
          "Acumulado": 20,
          "Exercicios": 3,
          "Pessoa": "Gabriel",
          "Semana": 9
         },
         {
          "Acumulado": 23,
          "Exercicios": 3,
          "Pessoa": "Gabriel",
          "Semana": 10
         },
         {
          "Acumulado": 23,
          "Exercicios": 0,
          "Pessoa": "Gabriel",
          "Semana": 11
         },
         {
          "Acumulado": 23,
          "Exercicios": 0,
          "Pessoa": "Gabriel",
          "Semana": 12
         },
         {
          "Acumulado": 23,
          "Exercicios": 0,
          "Pessoa": "Gabriel",
          "Semana": 13
         },
         {
          "Acumulado": 23,
          "Exercicios": 0,
          "Pessoa": "Gabriel",
          "Semana": 14
         },
         {
          "Acumulado": 25,
          "Exercicios": 2,
          "Pessoa": "Gabriel",
          "Semana": 15
         },
         {
          "Acumulado": 25,
          "Exercicios": 0,
          "Pessoa": "Gabriel",
          "Semana": 16
         },
         {
          "Acumulado": 26,
          "Exercicios": 1,
          "Pessoa": "Gabriel",
          "Semana": 17
         },
         {
          "Acumulado": 28,
          "Exercicios": 2,
          "Pessoa": "Gabriel",
          "Semana": 18
         },
         {
          "Acumulado": 28,
          "Exercicios": 0,
          "Pessoa": "Gabriel",
          "Semana": 19
         },
         {
          "Acumulado": 28,
          "Exercicios": 0,
          "Pessoa": "Gabriel",
          "Semana": 20
         },
         {
          "Acumulado": 5,
          "Exercicios": 5,
          "Pessoa": "Marcela",
          "Semana": 1
         },
         {
          "Acumulado": 10,
          "Exercicios": 5,
          "Pessoa": "Marcela",
          "Semana": 2
         },
         {
          "Acumulado": 15,
          "Exercicios": 5,
          "Pessoa": "Marcela",
          "Semana": 3
         },
         {
          "Acumulado": 18,
          "Exercicios": 3,
          "Pessoa": "Marcela",
          "Semana": 4
         },
         {
          "Acumulado": 18,
          "Exercicios": 0,
          "Pessoa": "Marcela",
          "Semana": 5
         },
         {
          "Acumulado": 18,
          "Exercicios": 0,
          "Pessoa": "Marcela",
          "Semana": 6
         },
         {
          "Acumulado": 23,
          "Exercicios": 5,
          "Pessoa": "Marcela",
          "Semana": 7
         },
         {
          "Acumulado": 27,
          "Exercicios": 4,
          "Pessoa": "Marcela",
          "Semana": 8
         },
         {
          "Acumulado": 31,
          "Exercicios": 4,
          "Pessoa": "Marcela",
          "Semana": 9
         },
         {
          "Acumulado": 36,
          "Exercicios": 5,
          "Pessoa": "Marcela",
          "Semana": 10
         },
         {
          "Acumulado": 40,
          "Exercicios": 4,
          "Pessoa": "Marcela",
          "Semana": 11
         },
         {
          "Acumulado": 41,
          "Exercicios": 1,
          "Pessoa": "Marcela",
          "Semana": 12
         },
         {
          "Acumulado": 41,
          "Exercicios": 0,
          "Pessoa": "Marcela",
          "Semana": 13
         },
         {
          "Acumulado": 41,
          "Exercicios": 0,
          "Pessoa": "Marcela",
          "Semana": 14
         },
         {
          "Acumulado": 44,
          "Exercicios": 3,
          "Pessoa": "Marcela",
          "Semana": 15
         },
         {
          "Acumulado": 48,
          "Exercicios": 4,
          "Pessoa": "Marcela",
          "Semana": 16
         },
         {
          "Acumulado": 52,
          "Exercicios": 4,
          "Pessoa": "Marcela",
          "Semana": 17
         },
         {
          "Acumulado": 56,
          "Exercicios": 4,
          "Pessoa": "Marcela",
          "Semana": 18
         },
         {
          "Acumulado": 60,
          "Exercicios": 4,
          "Pessoa": "Marcela",
          "Semana": 19
         },
         {
          "Acumulado": 64,
          "Exercicios": 4,
          "Pessoa": "Marcela",
          "Semana": 20
         }
        ]
       },
       "encoding": {
        "color": {
         "field": "Pessoa",
         "type": "nominal"
        },
        "strokeDash": {
         "field": "Pessoa",
         "type": "nominal"
        },
        "x": {
         "field": "Semana",
         "type": "quantitative"
        },
        "y": {
         "field": "Acumulado",
         "type": "quantitative"
        }
       },
       "height": 400,
       "mark": "line",
       "title": "Desafio de Sempre - Visão Semanal",
       "width": 1000
      },
      "image/png": "[encoded data removed]",
      "image/svg+xml": [
       "<?xml version=\"1.0\" encoding=\"utf-8\"?>\n",
       "<!DOCTYPE svg PUBLIC \"-//W3C//DTD SVG 1.1//EN\" \"http://www.w3.org/Graphics/SVG/1.1/DTD/svg11.dtd\">\n",
       "<svg xmlns=\"http://www.w3.org/2000/svg\" xmlns:xlink=\"http://www.w3.org/1999/xlink\" version=\"1.1\" class=\"marks\" width=\"1131\" height=\"464\" viewBox=\"0 0 1131 464\"><rect width=\"1131\" height=\"464\" fill=\"white\"/><g fill=\"none\" stroke-miterlimit=\"10\" transform=\"translate(45,27)\"><g class=\"mark-group role-frame root\" role=\"graphics-object\" aria-roledescription=\"group mark container\"><g transform=\"translate(0,0)\"><path class=\"background\" aria-hidden=\"true\" d=\"M0.5,0.5h1000v400h-1000Z\" stroke=\"#ddd\"/><g><g class=\"mark-group role-axis\" aria-hidden=\"true\"><g transform=\"translate(0.5,400.5)\"><path class=\"background\" aria-hidden=\"true\" d=\"M0,0h0v0h0Z\" pointer-events=\"none\"/><g><g class=\"mark-rule role-axis-grid\" pointer-events=\"none\"><line transform=\"translate(0,-400)\" x2=\"0\" y2=\"400\" stroke=\"#ddd\" stroke-width=\"1\" opacity=\"1\"/><line transform=\"translate(50,-400)\" x2=\"0\" y2=\"400\" stroke=\"#ddd\" stroke-width=\"1\" opacity=\"1\"/><line transform=\"translate(100,-400)\" x2=\"0\" y2=\"400\" stroke=\"#ddd\" stroke-width=\"1\" opacity=\"1\"/><line transform=\"translate(150,-400)\" x2=\"0\" y2=\"400\" stroke=\"#ddd\" stroke-width=\"1\" opacity=\"1\"/><line transform=\"translate(200,-400)\" x2=\"0\" y2=\"400\" stroke=\"#ddd\" stroke-width=\"1\" opacity=\"1\"/><line transform=\"translate(250,-400)\" x2=\"0\" y2=\"400\" stroke=\"#ddd\" stroke-width=\"1\" opacity=\"1\"/><line transform=\"translate(300,-400)\" x2=\"0\" y2=\"400\" stroke=\"#ddd\" stroke-width=\"1\" opacity=\"1\"/><line transform=\"translate(350,-400)\" x2=\"0\" y2=\"400\" stroke=\"#ddd\" stroke-width=\"1\" opacity=\"1\"/><line transform=\"translate(400,-400)\" x2=\"0\" y2=\"400\" stroke=\"#ddd\" stroke-width=\"1\" opacity=\"1\"/><line transform=\"translate(450,-400)\" x2=\"0\" y2=\"400\" stroke=\"#ddd\" stroke-width=\"1\" opacity=\"1\"/><line transform=\"translate(500,-400)\" x2=\"0\" y2=\"400\" stroke=\"#ddd\" stroke-width=\"1\" opacity=\"1\"/><line transform=\"translate(550,-400)\" x2=\"0\" y2=\"400\" stroke=\"#ddd\" stroke-width=\"1\" opacity=\"1\"/><line transform=\"translate(600,-400)\" x2=\"0\" y2=\"400\" stroke=\"#ddd\" stroke-width=\"1\" opacity=\"1\"/><line transform=\"translate(650,-400)\" x2=\"0\" y2=\"400\" stroke=\"#ddd\" stroke-width=\"1\" opacity=\"1\"/><line transform=\"translate(700,-400)\" x2=\"0\" y2=\"400\" stroke=\"#ddd\" stroke-width=\"1\" opacity=\"1\"/><line transform=\"translate(750,-400)\" x2=\"0\" y2=\"400\" stroke=\"#ddd\" stroke-width=\"1\" opacity=\"1\"/><line transform=\"translate(800,-400)\" x2=\"0\" y2=\"400\" stroke=\"#ddd\" stroke-width=\"1\" opacity=\"1\"/><line transform=\"translate(850,-400)\" x2=\"0\" y2=\"400\" stroke=\"#ddd\" stroke-width=\"1\" opacity=\"1\"/><line transform=\"translate(900,-400)\" x2=\"0\" y2=\"400\" stroke=\"#ddd\" stroke-width=\"1\" opacity=\"1\"/><line transform=\"translate(950,-400)\" x2=\"0\" y2=\"400\" stroke=\"#ddd\" stroke-width=\"1\" opacity=\"1\"/><line transform=\"translate(1000,-400)\" x2=\"0\" y2=\"400\" stroke=\"#ddd\" stroke-width=\"1\" opacity=\"1\"/></g></g><path class=\"foreground\" aria-hidden=\"true\" d=\"\" pointer-events=\"none\" display=\"none\"/></g></g><g class=\"mark-group role-axis\" aria-hidden=\"true\"><g transform=\"translate(0.5,0.5)\"><path class=\"background\" aria-hidden=\"true\" d=\"M0,0h0v0h0Z\" pointer-events=\"none\"/><g><g class=\"mark-rule role-axis-grid\" pointer-events=\"none\"><line transform=\"translate(0,400)\" x2=\"1000\" y2=\"0\" stroke=\"#ddd\" stroke-width=\"1\" opacity=\"1\"/><line transform=\"translate(0,360)\" x2=\"1000\" y2=\"0\" stroke=\"#ddd\" stroke-width=\"1\" opacity=\"1\"/><line transform=\"translate(0,320)\" x2=\"1000\" y2=\"0\" stroke=\"#ddd\" stroke-width=\"1\" opacity=\"1\"/><line transform=\"translate(0,280)\" x2=\"1000\" y2=\"0\" stroke=\"#ddd\" stroke-width=\"1\" opacity=\"1\"/><line transform=\"translate(0,240)\" x2=\"1000\" y2=\"0\" stroke=\"#ddd\" stroke-width=\"1\" opacity=\"1\"/><line transform=\"translate(0,200)\" x2=\"1000\" y2=\"0\" stroke=\"#ddd\" stroke-width=\"1\" opacity=\"1\"/><line transform=\"translate(0,160)\" x2=\"1000\" y2=\"0\" stroke=\"#ddd\" stroke-width=\"1\" opacity=\"1\"/><line transform=\"translate(0,120)\" x2=\"1000\" y2=\"0\" stroke=\"#ddd\" stroke-width=\"1\" opacity=\"1\"/><line transform=\"translate(0,80)\" x2=\"1000\" y2=\"0\" stroke=\"#ddd\" stroke-width=\"1\" opacity=\"1\"/><line transform=\"translate(0,40)\" x2=\"1000\" y2=\"0\" stroke=\"#ddd\" stroke-width=\"1\" opacity=\"1\"/><line transform=\"translate(0,0)\" x2=\"1000\" y2=\"0\" stroke=\"#ddd\" stroke-width=\"1\" opacity=\"1\"/></g></g><path class=\"foreground\" aria-hidden=\"true\" d=\"\" pointer-events=\"none\" display=\"none\"/></g></g><g class=\"mark-group role-axis\" role=\"graphics-symbol\" aria-roledescription=\"axis\" aria-label=\"X-axis titled 'Semana' for a linear scale with values from 0 to 20\"><g transform=\"translate(0.5,400.5)\"><path class=\"background\" aria-hidden=\"true\" d=\"M0,0h0v0h0Z\" pointer-events=\"none\"/><g><g class=\"mark-rule role-axis-tick\" pointer-events=\"none\"><line transform=\"translate(0,0)\" x2=\"0\" y2=\"5\" stroke=\"#888\" stroke-width=\"1\" opacity=\"1\"/><line transform=\"translate(50,0)\" x2=\"0\" y2=\"5\" stroke=\"#888\" stroke-width=\"1\" opacity=\"1\"/><line transform=\"translate(100,0)\" x2=\"0\" y2=\"5\" stroke=\"#888\" stroke-width=\"1\" opacity=\"1\"/><line transform=\"translate(150,0)\" x2=\"0\" y2=\"5\" stroke=\"#888\" stroke-width=\"1\" opacity=\"1\"/><line transform=\"translate(200,0)\" x2=\"0\" y2=\"5\" stroke=\"#888\" stroke-width=\"1\" opacity=\"1\"/><line transform=\"translate(250,0)\" x2=\"0\" y2=\"5\" stroke=\"#888\" stroke-width=\"1\" opacity=\"1\"/><line transform=\"translate(300,0)\" x2=\"0\" y2=\"5\" stroke=\"#888\" stroke-width=\"1\" opacity=\"1\"/><line transform=\"translate(350,0)\" x2=\"0\" y2=\"5\" stroke=\"#888\" stroke-width=\"1\" opacity=\"1\"/><line transform=\"translate(400,0)\" x2=\"0\" y2=\"5\" stroke=\"#888\" stroke-width=\"1\" opacity=\"1\"/><line transform=\"translate(450,0)\" x2=\"0\" y2=\"5\" stroke=\"#888\" stroke-width=\"1\" opacity=\"1\"/><line transform=\"translate(500,0)\" x2=\"0\" y2=\"5\" stroke=\"#888\" stroke-width=\"1\" opacity=\"1\"/><line transform=\"translate(550,0)\" x2=\"0\" y2=\"5\" stroke=\"#888\" stroke-width=\"1\" opacity=\"1\"/><line transform=\"translate(600,0)\" x2=\"0\" y2=\"5\" stroke=\"#888\" stroke-width=\"1\" opacity=\"1\"/><line transform=\"translate(650,0)\" x2=\"0\" y2=\"5\" stroke=\"#888\" stroke-width=\"1\" opacity=\"1\"/><line transform=\"translate(700,0)\" x2=\"0\" y2=\"5\" stroke=\"#888\" stroke-width=\"1\" opacity=\"1\"/><line transform=\"translate(750,0)\" x2=\"0\" y2=\"5\" stroke=\"#888\" stroke-width=\"1\" opacity=\"1\"/><line transform=\"translate(800,0)\" x2=\"0\" y2=\"5\" stroke=\"#888\" stroke-width=\"1\" opacity=\"1\"/><line transform=\"translate(850,0)\" x2=\"0\" y2=\"5\" stroke=\"#888\" stroke-width=\"1\" opacity=\"1\"/><line transform=\"translate(900,0)\" x2=\"0\" y2=\"5\" stroke=\"#888\" stroke-width=\"1\" opacity=\"1\"/><line transform=\"translate(950,0)\" x2=\"0\" y2=\"5\" stroke=\"#888\" stroke-width=\"1\" opacity=\"1\"/><line transform=\"translate(1000,0)\" x2=\"0\" y2=\"5\" stroke=\"#888\" stroke-width=\"1\" opacity=\"1\"/></g><g class=\"mark-text role-axis-label\" pointer-events=\"none\"><text text-anchor=\"start\" transform=\"translate(0,15)\" font-family=\"sans-serif\" font-size=\"10px\" fill=\"#000\" opacity=\"1\">0</text><text text-anchor=\"middle\" transform=\"translate(50,15)\" font-family=\"sans-serif\" font-size=\"10px\" fill=\"#000\" opacity=\"1\">1</text><text text-anchor=\"middle\" transform=\"translate(100,15)\" font-family=\"sans-serif\" font-size=\"10px\" fill=\"#000\" opacity=\"1\">2</text><text text-anchor=\"middle\" transform=\"translate(150,15)\" font-family=\"sans-serif\" font-size=\"10px\" fill=\"#000\" opacity=\"1\">3</text><text text-anchor=\"middle\" transform=\"translate(200,15)\" font-family=\"sans-serif\" font-size=\"10px\" fill=\"#000\" opacity=\"1\">4</text><text text-anchor=\"middle\" transform=\"translate(250,15)\" font-family=\"sans-serif\" font-size=\"10px\" fill=\"#000\" opacity=\"1\">5</text><text text-anchor=\"middle\" transform=\"translate(300,15)\" font-family=\"sans-serif\" font-size=\"10px\" fill=\"#000\" opacity=\"1\">6</text><text text-anchor=\"middle\" transform=\"translate(350,15)\" font-family=\"sans-serif\" font-size=\"10px\" fill=\"#000\" opacity=\"1\">7</text><text text-anchor=\"middle\" transform=\"translate(400,15)\" font-family=\"sans-serif\" font-size=\"10px\" fill=\"#000\" opacity=\"1\">8</text><text text-anchor=\"middle\" transform=\"translate(450,15)\" font-family=\"sans-serif\" font-size=\"10px\" fill=\"#000\" opacity=\"1\">9</text><text text-anchor=\"middle\" transform=\"translate(500,15)\" font-family=\"sans-serif\" font-size=\"10px\" fill=\"#000\" opacity=\"1\">10</text><text text-anchor=\"middle\" transform=\"translate(550,15)\" font-family=\"sans-serif\" font-size=\"10px\" fill=\"#000\" opacity=\"1\">11</text><text text-anchor=\"middle\" transform=\"translate(600,15)\" font-family=\"sans-serif\" font-size=\"10px\" fill=\"#000\" opacity=\"1\">12</text><text text-anchor=\"middle\" transform=\"translate(650,15)\" font-family=\"sans-serif\" font-size=\"10px\" fill=\"#000\" opacity=\"1\">13</text><text text-anchor=\"middle\" transform=\"translate(700,15)\" font-family=\"sans-serif\" font-size=\"10px\" fill=\"#000\" opacity=\"1\">14</text><text text-anchor=\"middle\" transform=\"translate(750,15)\" font-family=\"sans-serif\" font-size=\"10px\" fill=\"#000\" opacity=\"1\">15</text><text text-anchor=\"middle\" transform=\"translate(800,15)\" font-family=\"sans-serif\" font-size=\"10px\" fill=\"#000\" opacity=\"1\">16</text><text text-anchor=\"middle\" transform=\"translate(850,15)\" font-family=\"sans-serif\" font-size=\"10px\" fill=\"#000\" opacity=\"1\">17</text><text text-anchor=\"middle\" transform=\"translate(900,15)\" font-family=\"sans-serif\" font-size=\"10px\" fill=\"#000\" opacity=\"1\">18</text><text text-anchor=\"middle\" transform=\"translate(950,15)\" font-family=\"sans-serif\" font-size=\"10px\" fill=\"#000\" opacity=\"1\">19</text><text text-anchor=\"end\" transform=\"translate(1000,15)\" font-family=\"sans-serif\" font-size=\"10px\" fill=\"#000\" opacity=\"1\">20</text></g><g class=\"mark-rule role-axis-domain\" pointer-events=\"none\"><line transform=\"translate(0,0)\" x2=\"1000\" y2=\"0\" stroke=\"#888\" stroke-width=\"1\" opacity=\"1\"/></g><g class=\"mark-text role-axis-title\" pointer-events=\"none\"><text text-anchor=\"middle\" transform=\"translate(500,30)\" font-family=\"sans-serif\" font-size=\"11px\" font-weight=\"bold\" fill=\"#000\" opacity=\"1\">Semana</text></g></g><path class=\"foreground\" aria-hidden=\"true\" d=\"\" pointer-events=\"none\" display=\"none\"/></g></g><g class=\"mark-group role-axis\" role=\"graphics-symbol\" aria-roledescription=\"axis\" aria-label=\"Y-axis titled 'Acumulado' for a linear scale with values from 0 to 100\"><g transform=\"translate(0.5,0.5)\"><path class=\"background\" aria-hidden=\"true\" d=\"M0,0h0v0h0Z\" pointer-events=\"none\"/><g><g class=\"mark-rule role-axis-tick\" pointer-events=\"none\"><line transform=\"translate(0,400)\" x2=\"-5\" y2=\"0\" stroke=\"#888\" stroke-width=\"1\" opacity=\"1\"/><line transform=\"translate(0,360)\" x2=\"-5\" y2=\"0\" stroke=\"#888\" stroke-width=\"1\" opacity=\"1\"/><line transform=\"translate(0,320)\" x2=\"-5\" y2=\"0\" stroke=\"#888\" stroke-width=\"1\" opacity=\"1\"/><line transform=\"translate(0,280)\" x2=\"-5\" y2=\"0\" stroke=\"#888\" stroke-width=\"1\" opacity=\"1\"/><line transform=\"translate(0,240)\" x2=\"-5\" y2=\"0\" stroke=\"#888\" stroke-width=\"1\" opacity=\"1\"/><line transform=\"translate(0,200)\" x2=\"-5\" y2=\"0\" stroke=\"#888\" stroke-width=\"1\" opacity=\"1\"/><line transform=\"translate(0,160)\" x2=\"-5\" y2=\"0\" stroke=\"#888\" stroke-width=\"1\" opacity=\"1\"/><line transform=\"translate(0,120)\" x2=\"-5\" y2=\"0\" stroke=\"#888\" stroke-width=\"1\" opacity=\"1\"/><line transform=\"translate(0,80)\" x2=\"-5\" y2=\"0\" stroke=\"#888\" stroke-width=\"1\" opacity=\"1\"/><line transform=\"translate(0,40)\" x2=\"-5\" y2=\"0\" stroke=\"#888\" stroke-width=\"1\" opacity=\"1\"/><line transform=\"translate(0,0)\" x2=\"-5\" y2=\"0\" stroke=\"#888\" stroke-width=\"1\" opacity=\"1\"/></g><g class=\"mark-text role-axis-label\" pointer-events=\"none\"><text text-anchor=\"end\" transform=\"translate(-7,403)\" font-family=\"sans-serif\" font-size=\"10px\" fill=\"#000\" opacity=\"1\">0</text><text text-anchor=\"end\" transform=\"translate(-7,363)\" font-family=\"sans-serif\" font-size=\"10px\" fill=\"#000\" opacity=\"1\">10</text><text text-anchor=\"end\" transform=\"translate(-7,323)\" font-family=\"sans-serif\" font-size=\"10px\" fill=\"#000\" opacity=\"1\">20</text><text text-anchor=\"end\" transform=\"translate(-7,283)\" font-family=\"sans-serif\" font-size=\"10px\" fill=\"#000\" opacity=\"1\">30</text><text text-anchor=\"end\" transform=\"translate(-7,243)\" font-family=\"sans-serif\" font-size=\"10px\" fill=\"#000\" opacity=\"1\">40</text><text text-anchor=\"end\" transform=\"translate(-7,203)\" font-family=\"sans-serif\" font-size=\"10px\" fill=\"#000\" opacity=\"1\">50</text><text text-anchor=\"end\" transform=\"translate(-7,163)\" font-family=\"sans-serif\" font-size=\"10px\" fill=\"#000\" opacity=\"1\">60</text><text text-anchor=\"end\" transform=\"translate(-7,123.00000000000001)\" font-family=\"sans-serif\" font-size=\"10px\" fill=\"#000\" opacity=\"1\">70</text><text text-anchor=\"end\" transform=\"translate(-7,82.99999999999999)\" font-family=\"sans-serif\" font-size=\"10px\" fill=\"#000\" opacity=\"1\">80</text><text text-anchor=\"end\" transform=\"translate(-7,42.99999999999999)\" font-family=\"sans-serif\" font-size=\"10px\" fill=\"#000\" opacity=\"1\">90</text><text text-anchor=\"end\" transform=\"translate(-7,3)\" font-family=\"sans-serif\" font-size=\"10px\" fill=\"#000\" opacity=\"1\">100</text></g><g class=\"mark-rule role-axis-domain\" pointer-events=\"none\"><line transform=\"translate(0,400)\" x2=\"0\" y2=\"-400\" stroke=\"#888\" stroke-width=\"1\" opacity=\"1\"/></g><g class=\"mark-text role-axis-title\" pointer-events=\"none\"><text text-anchor=\"middle\" transform=\"translate(-29,200) rotate(-90) translate(0,-2)\" font-family=\"sans-serif\" font-size=\"11px\" font-weight=\"bold\" fill=\"#000\" opacity=\"1\">Acumulado</text></g></g><path class=\"foreground\" aria-hidden=\"true\" d=\"\" pointer-events=\"none\" display=\"none\"/></g></g><g class=\"mark-group role-scope pathgroup\" role=\"graphics-object\" aria-roledescription=\"group mark container\"><g transform=\"translate(0,0)\"><path class=\"background\" aria-hidden=\"true\" d=\"M0,0h1000v400h-1000Z\"/><g><g class=\"mark-line role-mark marks\" role=\"graphics-object\" aria-roledescription=\"line mark container\"><path aria-label=\"Pessoa: Davi; Semana: 1; Acumulado: 3\" role=\"graphics-symbol\" aria-roledescription=\"line mark\" d=\"M50,388L100,380L150,380L200,356L250,352L300,340L350,332L400,324L450,320L500,316L550,304L600,296L650,288L700,280L750,272L800,272L850,260L900,248L950,236.00000000000003L1000,220.00000000000003\" stroke=\"#e45756\" stroke-width=\"2\" stroke-dasharray=\"2,1\"/></g></g><path class=\"foreground\" aria-hidden=\"true\" d=\"\" display=\"none\"/></g><g transform=\"translate(0,0)\"><path class=\"background\" aria-hidden=\"true\" d=\"M0,0h1000v400h-1000Z\"/><g><g class=\"mark-line role-mark marks\" role=\"graphics-object\" aria-roledescription=\"line mark container\"><path aria-label=\"Pessoa: Lara; Semana: 1; Acumulado: 4\" role=\"graphics-symbol\" aria-roledescription=\"line mark\" d=\"M50,384L100,376L150,376L200,356L250,352L300,352L350,352L400,348L450,348L500,348L550,344L600,344L650,332L700,316L750,308L800,304L850,300L900,300L950,296L1000,284\" stroke=\"#eeca3b\" stroke-width=\"2\" stroke-dasharray=\"1,0\"/></g></g><path class=\"foreground\" aria-hidden=\"true\" d=\"\" display=\"none\"/></g><g transform=\"translate(0,0)\"><path class=\"background\" aria-hidden=\"true\" d=\"M0,0h1000v400h-1000Z\"/><g><g class=\"mark-line role-mark marks\" role=\"graphics-object\" aria-roledescription=\"line mark container\"><path aria-label=\"Pessoa: Alberto; Semana: 1; Acumulado: 7\" role=\"graphics-symbol\" aria-roledescription=\"line mark\" d=\"M50,372L100,356L150,336L200,316L250,316L300,316L350,316L400,296L450,272L500,244L550,216L600,192L650,172.00000000000003L700,152L750,127.99999999999999L800,108L850,83.99999999999999L900,60.00000000000001L950,39.99999999999999L1000,24.00000000000002\" stroke=\"#4c78a8\" stroke-width=\"2\" stroke-dasharray=\"1,0\"/></g></g><path class=\"foreground\" aria-hidden=\"true\" d=\"\" display=\"none\"/></g><g transform=\"translate(0,0)\"><path class=\"background\" aria-hidden=\"true\" d=\"M0,0h1000v400h-1000Z\"/><g><g class=\"mark-line role-mark marks\" role=\"graphics-object\" aria-roledescription=\"line mark container\"><path aria-label=\"Pessoa: Mineiro; Semana: 1; Acumulado: 3\" role=\"graphics-symbol\" aria-roledescription=\"line mark\" d=\"M50,388L100,376L150,368L200,368L250,368L300,368L350,356L400,352L450,344L500,344L550,344L600,340L650,328L700,328L750,324L800,324L850,320L900,316L950,316L1000,316\" stroke=\"#bab0ac\" stroke-width=\"2\" stroke-dasharray=\"1,2,4,2\"/></g></g><path class=\"foreground\" aria-hidden=\"true\" d=\"\" display=\"none\"/></g><g transform=\"translate(0,0)\"><path class=\"background\" aria-hidden=\"true\" d=\"M0,0h1000v400h-1000Z\"/><g><g class=\"mark-line role-mark marks\" role=\"graphics-object\" aria-roledescription=\"line mark container\"><path aria-label=\"Pessoa: Mariana; Semana: 1; Acumulado: 3\" role=\"graphics-symbol\" aria-roledescription=\"line mark\" d=\"M50,388L100,372L150,364L200,364L250,360L300,360L350,344L400,340L450,332L500,332L550,332L600,328L650,316L700,316L750,312L800,308L850,304L900,300L950,300L1000,300\" stroke=\"#9d755d\" stroke-width=\"2\" stroke-dasharray=\"1,1\"/></g></g><path class=\"foreground\" aria-hidden=\"true\" d=\"\" display=\"none\"/></g><g transform=\"translate(0,0)\"><path class=\"background\" aria-hidden=\"true\" d=\"M0,0h1000v400h-1000Z\"/><g><g class=\"mark-line role-mark marks\" role=\"graphics-object\" aria-roledescription=\"line mark container\"><path aria-label=\"Pessoa: Leo; Semana: 1; Acumulado: 5\" role=\"graphics-symbol\" aria-roledescription=\"line mark\" d=\"M50,380L100,364L150,340L200,316L250,312L300,288L350,263.99999999999994L400,244L450,220.00000000000003L500,196L550,172.00000000000003L600,148L650,136L700,124.00000000000003L750,104L800,83.99999999999999L850,75.99999999999997L900,64.00000000000001L950,39.99999999999999L1000,31.999999999999986\" stroke=\"#b279a2\" stroke-width=\"2\" stroke-dasharray=\"4,2\"/></g></g><path class=\"foreground\" aria-hidden=\"true\" d=\"\" display=\"none\"/></g><g transform=\"translate(0,0)\"><path class=\"background\" aria-hidden=\"true\" d=\"M0,0h1000v400h-1000Z\"/><g><g class=\"mark-line role-mark marks\" role=\"graphics-object\" aria-roledescription=\"line mark container\"><path aria-label=\"Pessoa: Cecília; Semana: 1; Acumulado: 3\" role=\"graphics-symbol\" aria-roledescription=\"line mark\" d=\"M50,388L100,376L150,356L200,340L250,316L300,312L350,292L400,284L450,272L500,260L550,256L600,256L650,256L700,244L750,232.00000000000003L800,220.00000000000003L850,200L900,188L950,184L1000,175.99999999999997\" stroke=\"#f58518\" stroke-width=\"2\" stroke-dasharray=\"4,2\"/></g></g><path class=\"foreground\" aria-hidden=\"true\" d=\"\" display=\"none\"/></g><g transform=\"translate(0,0)\"><path class=\"background\" aria-hidden=\"true\" d=\"M0,0h1000v400h-1000Z\"/><g><g class=\"mark-line role-mark marks\" role=\"graphics-object\" aria-roledescription=\"line mark container\"><path aria-label=\"Pessoa: Henrique; Semana: 1; Acumulado: 6\" role=\"graphics-symbol\" aria-roledescription=\"line mark\" d=\"M50,376L100,352L150,336L200,316L250,304L300,288L350,272L400,263.99999999999994L450,240L500,220.00000000000003L550,212L600,196L650,184L700,164L750,144L800,120.00000000000001L850,104L900,87.99999999999999L950,68.00000000000001L1000,52\" stroke=\"#54a24b\" stroke-width=\"2\" stroke-dasharray=\"1,2,4,2\"/></g></g><path class=\"foreground\" aria-hidden=\"true\" d=\"\" display=\"none\"/></g><g transform=\"translate(0,0)\"><path class=\"background\" aria-hidden=\"true\" d=\"M0,0h1000v400h-1000Z\"/><g><g class=\"mark-line role-mark marks\" role=\"graphics-object\" aria-roledescription=\"line mark container\"><path aria-label=\"Pessoa: Quezia; Semana: 1; Acumulado: 5\" role=\"graphics-symbol\" aria-roledescription=\"line mark\" d=\"M50,380L100,360L150,344L200,320L250,304L300,288L350,272L400,260L450,248L500,228.00000000000003L550,224.00000000000003L600,204L650,188L700,175.99999999999997L750,160L800,144L850,124.00000000000003L900,112.00000000000001L950,96L1000,72.00000000000001\" stroke=\"#f58518\" stroke-width=\"2\" stroke-dasharray=\"4,2\"/></g></g><path class=\"foreground\" aria-hidden=\"true\" d=\"\" display=\"none\"/></g><g transform=\"translate(0,0)\"><path class=\"background\" aria-hidden=\"true\" d=\"M0,0h1000v400h-1000Z\"/><g><g class=\"mark-line role-mark marks\" role=\"graphics-object\" aria-roledescription=\"line mark container\"><path aria-label=\"Pessoa: Ravi; Semana: 1; Acumulado: 0\" role=\"graphics-symbol\" aria-roledescription=\"line mark\" d=\"M50,400L100,400L150,400L200,396L250,380L300,376L350,372L400,368L450,364L500,356L550,348L600,344L650,344L700,332L750,332L800,332L850,320L900,320L950,308L1000,308\" stroke=\"#e45756\" stroke-width=\"2\" stroke-dasharray=\"2,1\"/></g></g><path class=\"foreground\" aria-hidden=\"true\" d=\"\" display=\"none\"/></g><g transform=\"translate(0,0)\"><path class=\"background\" aria-hidden=\"true\" d=\"M0,0h1000v400h-1000Z\"/><g><g class=\"mark-line role-mark marks\" role=\"graphics-object\" aria-roledescription=\"line mark container\"><path aria-label=\"Pessoa: Naina; Semana: 1; Acumulado: 2\" role=\"graphics-symbol\" aria-roledescription=\"line mark\" d=\"M50,392L100,392L150,392L200,392L250,392L300,392L350,392L400,388L450,384L500,376L550,376L600,376L650,376L700,376L750,376L800,376L850,376L900,376L950,376L1000,376\" stroke=\"#4c78a8\" stroke-width=\"2\" stroke-dasharray=\"1,0\"/></g></g><path class=\"foreground\" aria-hidden=\"true\" d=\"\" display=\"none\"/></g><g transform=\"translate(0,0)\"><path class=\"background\" aria-hidden=\"true\" d=\"M0,0h1000v400h-1000Z\"/><g><g class=\"mark-line role-mark marks\" role=\"graphics-object\" aria-roledescription=\"line mark container\"><path aria-label=\"Pessoa: Gabriel; Semana: 1; Acumulado: 3\" role=\"graphics-symbol\" aria-roledescription=\"line mark\" d=\"M50,388L100,376L150,360L200,352L250,352L300,352L350,340L400,332L450,320L500,308L550,308L600,308L650,308L700,308L750,300L800,300L850,296L900,288L950,288L1000,288\" stroke=\"#72b7b2\" stroke-width=\"2\" stroke-dasharray=\"1,1\"/></g></g><path class=\"foreground\" aria-hidden=\"true\" d=\"\" display=\"none\"/></g><g transform=\"translate(0,0)\"><path class=\"background\" aria-hidden=\"true\" d=\"M0,0h1000v400h-1000Z\"/><g><g class=\"mark-line role-mark marks\" role=\"graphics-object\" aria-roledescription=\"line mark container\"><path aria-label=\"Pessoa: Marcela; Semana: 1; Acumulado: 5\" role=\"graphics-symbol\" aria-roledescription=\"line mark\" d=\"M50,380L100,360L150,340L200,328L250,328L300,328L350,308L400,292L450,276L500,256L550,240L600,236.00000000000003L650,236.00000000000003L700,236.00000000000003L750,224.00000000000003L800,208L850,192L900,175.99999999999997L950,160L1000,144\" stroke=\"#ff9da6\" stroke-width=\"2\" stroke-dasharray=\"2,1\"/></g></g><path class=\"foreground\" aria-hidden=\"true\" d=\"\" display=\"none\"/></g></g><g class=\"mark-group role-legend\" role=\"graphics-symbol\" aria-roledescription=\"legend\" aria-label=\"Symbol legend titled 'Pessoa' for stroke color and strokeDash with 13 values: Alberto, Cecília, Davi, Gabriel, Henrique, ending with Ravi\"><g transform=\"translate(1020,0)\"><path class=\"background\" aria-hidden=\"true\" d=\"M0,0h61v183h-61Z\" pointer-events=\"none\"/><g><g class=\"mark-group role-legend-entry\"><g transform=\"translate(0,16)\"><path class=\"background\" aria-hidden=\"true\" d=\"M0,0h0v0h0Z\" pointer-events=\"none\"/><g><g class=\"mark-group role-scope\" role=\"graphics-object\" aria-roledescription=\"group mark container\"><g transform=\"translate(0,0)\"><path class=\"background\" aria-hidden=\"true\" d=\"M0,0h61v11h-61Z\" pointer-events=\"none\" opacity=\"1\"/><g><g class=\"mark-symbol role-legend-symbol\" pointer-events=\"none\"><path transform=\"translate(6,6)\" d=\"M-5,0L5,0\" stroke=\"#4c78a8\" stroke-width=\"1.5\" stroke-dasharray=\"1,0\" opacity=\"1\"/></g><g class=\"mark-text role-legend-label\" pointer-events=\"none\"><text text-anchor=\"start\" transform=\"translate(16,9)\" font-family=\"sans-serif\" font-size=\"10px\" fill=\"#000\" opacity=\"1\">Alberto</text></g></g><path class=\"foreground\" aria-hidden=\"true\" d=\"\" pointer-events=\"none\" display=\"none\"/></g><g transform=\"translate(0,13)\"><path class=\"background\" aria-hidden=\"true\" d=\"M0,0h61v11h-61Z\" pointer-events=\"none\" opacity=\"1\"/><g><g class=\"mark-symbol role-legend-symbol\" pointer-events=\"none\"><path transform=\"translate(6,6)\" d=\"M-5,0L5,0\" stroke=\"#f58518\" stroke-width=\"1.5\" stroke-dasharray=\"4,2\" opacity=\"1\"/></g><g class=\"mark-text role-legend-label\" pointer-events=\"none\"><text text-anchor=\"start\" transform=\"translate(16,9)\" font-family=\"sans-serif\" font-size=\"10px\" fill=\"#000\" opacity=\"1\">Cecília</text></g></g><path class=\"foreground\" aria-hidden=\"true\" d=\"\" pointer-events=\"none\" display=\"none\"/></g><g transform=\"translate(0,26)\"><path class=\"background\" aria-hidden=\"true\" d=\"M0,0h61v11h-61Z\" pointer-events=\"none\" opacity=\"1\"/><g><g class=\"mark-symbol role-legend-symbol\" pointer-events=\"none\"><path transform=\"translate(6,6)\" d=\"M-5,0L5,0\" stroke=\"#e45756\" stroke-width=\"1.5\" stroke-dasharray=\"2,1\" opacity=\"1\"/></g><g class=\"mark-text role-legend-label\" pointer-events=\"none\"><text text-anchor=\"start\" transform=\"translate(16,9)\" font-family=\"sans-serif\" font-size=\"10px\" fill=\"#000\" opacity=\"1\">Davi</text></g></g><path class=\"foreground\" aria-hidden=\"true\" d=\"\" pointer-events=\"none\" display=\"none\"/></g><g transform=\"translate(0,39)\"><path class=\"background\" aria-hidden=\"true\" d=\"M0,0h61v11h-61Z\" pointer-events=\"none\" opacity=\"1\"/><g><g class=\"mark-symbol role-legend-symbol\" pointer-events=\"none\"><path transform=\"translate(6,6)\" d=\"M-5,0L5,0\" stroke=\"#72b7b2\" stroke-width=\"1.5\" stroke-dasharray=\"1,1\" opacity=\"1\"/></g><g class=\"mark-text role-legend-label\" pointer-events=\"none\"><text text-anchor=\"start\" transform=\"translate(16,9)\" font-family=\"sans-serif\" font-size=\"10px\" fill=\"#000\" opacity=\"1\">Gabriel</text></g></g><path class=\"foreground\" aria-hidden=\"true\" d=\"\" pointer-events=\"none\" display=\"none\"/></g><g transform=\"translate(0,52)\"><path class=\"background\" aria-hidden=\"true\" d=\"M0,0h61v11h-61Z\" pointer-events=\"none\" opacity=\"1\"/><g><g class=\"mark-symbol role-legend-symbol\" pointer-events=\"none\"><path transform=\"translate(6,6)\" d=\"M-5,0L5,0\" stroke=\"#54a24b\" stroke-width=\"1.5\" stroke-dasharray=\"1,2,4,2\" opacity=\"1\"/></g><g class=\"mark-text role-legend-label\" pointer-events=\"none\"><text text-anchor=\"start\" transform=\"translate(16,9)\" font-family=\"sans-serif\" font-size=\"10px\" fill=\"#000\" opacity=\"1\">Henrique</text></g></g><path class=\"foreground\" aria-hidden=\"true\" d=\"\" pointer-events=\"none\" display=\"none\"/></g><g transform=\"translate(0,65)\"><path class=\"background\" aria-hidden=\"true\" d=\"M0,0h61v11h-61Z\" pointer-events=\"none\" opacity=\"1\"/><g><g class=\"mark-symbol role-legend-symbol\" pointer-events=\"none\"><path transform=\"translate(6,6)\" d=\"M-5,0L5,0\" stroke=\"#eeca3b\" stroke-width=\"1.5\" stroke-dasharray=\"1,0\" opacity=\"1\"/></g><g class=\"mark-text role-legend-label\" pointer-events=\"none\"><text text-anchor=\"start\" transform=\"translate(16,9)\" font-family=\"sans-serif\" font-size=\"10px\" fill=\"#000\" opacity=\"1\">Lara</text></g></g><path class=\"foreground\" aria-hidden=\"true\" d=\"\" pointer-events=\"none\" display=\"none\"/></g><g transform=\"translate(0,78)\"><path class=\"background\" aria-hidden=\"true\" d=\"M0,0h61v11h-61Z\" pointer-events=\"none\" opacity=\"1\"/><g><g class=\"mark-symbol role-legend-symbol\" pointer-events=\"none\"><path transform=\"translate(6,6)\" d=\"M-5,0L5,0\" stroke=\"#b279a2\" stroke-width=\"1.5\" stroke-dasharray=\"4,2\" opacity=\"1\"/></g><g class=\"mark-text role-legend-label\" pointer-events=\"none\"><text text-anchor=\"start\" transform=\"translate(16,9)\" font-family=\"sans-serif\" font-size=\"10px\" fill=\"#000\" opacity=\"1\">Leo</text></g></g><path class=\"foreground\" aria-hidden=\"true\" d=\"\" pointer-events=\"none\" display=\"none\"/></g><g transform=\"translate(0,91)\"><path class=\"background\" aria-hidden=\"true\" d=\"M0,0h61v11h-61Z\" pointer-events=\"none\" opacity=\"1\"/><g><g class=\"mark-symbol role-legend-symbol\" pointer-events=\"none\"><path transform=\"translate(6,6)\" d=\"M-5,0L5,0\" stroke=\"#ff9da6\" stroke-width=\"1.5\" stroke-dasharray=\"2,1\" opacity=\"1\"/></g><g class=\"mark-text role-legend-label\" pointer-events=\"none\"><text text-anchor=\"start\" transform=\"translate(16,9)\" font-family=\"sans-serif\" font-size=\"10px\" fill=\"#000\" opacity=\"1\">Marcela</text></g></g><path class=\"foreground\" aria-hidden=\"true\" d=\"\" pointer-events=\"none\" display=\"none\"/></g><g transform=\"translate(0,104)\"><path class=\"background\" aria-hidden=\"true\" d=\"M0,0h61v11h-61Z\" pointer-events=\"none\" opacity=\"1\"/><g><g class=\"mark-symbol role-legend-symbol\" pointer-events=\"none\"><path transform=\"translate(6,6)\" d=\"M-5,0L5,0\" stroke=\"#9d755d\" stroke-width=\"1.5\" stroke-dasharray=\"1,1\" opacity=\"1\"/></g><g class=\"mark-text role-legend-label\" pointer-events=\"none\"><text text-anchor=\"start\" transform=\"translate(16,9)\" font-family=\"sans-serif\" font-size=\"10px\" fill=\"#000\" opacity=\"1\">Mariana</text></g></g><path class=\"foreground\" aria-hidden=\"true\" d=\"\" pointer-events=\"none\" display=\"none\"/></g><g transform=\"translate(0,117)\"><path class=\"background\" aria-hidden=\"true\" d=\"M0,0h61v11h-61Z\" pointer-events=\"none\" opacity=\"1\"/><g><g class=\"mark-symbol role-legend-symbol\" pointer-events=\"none\"><path transform=\"translate(6,6)\" d=\"M-5,0L5,0\" stroke=\"#bab0ac\" stroke-width=\"1.5\" stroke-dasharray=\"1,2,4,2\" opacity=\"1\"/></g><g class=\"mark-text role-legend-label\" pointer-events=\"none\"><text text-anchor=\"start\" transform=\"translate(16,9)\" font-family=\"sans-serif\" font-size=\"10px\" fill=\"#000\" opacity=\"1\">Mineiro</text></g></g><path class=\"foreground\" aria-hidden=\"true\" d=\"\" pointer-events=\"none\" display=\"none\"/></g><g transform=\"translate(0,130)\"><path class=\"background\" aria-hidden=\"true\" d=\"M0,0h61v11h-61Z\" pointer-events=\"none\" opacity=\"1\"/><g><g class=\"mark-symbol role-legend-symbol\" pointer-events=\"none\"><path transform=\"translate(6,6)\" d=\"M-5,0L5,0\" stroke=\"#4c78a8\" stroke-width=\"1.5\" stroke-dasharray=\"1,0\" opacity=\"1\"/></g><g class=\"mark-text role-legend-label\" pointer-events=\"none\"><text text-anchor=\"start\" transform=\"translate(16,9)\" font-family=\"sans-serif\" font-size=\"10px\" fill=\"#000\" opacity=\"1\">Naina</text></g></g><path class=\"foreground\" aria-hidden=\"true\" d=\"\" pointer-events=\"none\" display=\"none\"/></g><g transform=\"translate(0,143)\"><path class=\"background\" aria-hidden=\"true\" d=\"M0,0h61v11h-61Z\" pointer-events=\"none\" opacity=\"1\"/><g><g class=\"mark-symbol role-legend-symbol\" pointer-events=\"none\"><path transform=\"translate(6,6)\" d=\"M-5,0L5,0\" stroke=\"#f58518\" stroke-width=\"1.5\" stroke-dasharray=\"4,2\" opacity=\"1\"/></g><g class=\"mark-text role-legend-label\" pointer-events=\"none\"><text text-anchor=\"start\" transform=\"translate(16,9)\" font-family=\"sans-serif\" font-size=\"10px\" fill=\"#000\" opacity=\"1\">Quezia</text></g></g><path class=\"foreground\" aria-hidden=\"true\" d=\"\" pointer-events=\"none\" display=\"none\"/></g><g transform=\"translate(0,156)\"><path class=\"background\" aria-hidden=\"true\" d=\"M0,0h61v11h-61Z\" pointer-events=\"none\" opacity=\"1\"/><g><g class=\"mark-symbol role-legend-symbol\" pointer-events=\"none\"><path transform=\"translate(6,6)\" d=\"M-5,0L5,0\" stroke=\"#e45756\" stroke-width=\"1.5\" stroke-dasharray=\"2,1\" opacity=\"1\"/></g><g class=\"mark-text role-legend-label\" pointer-events=\"none\"><text text-anchor=\"start\" transform=\"translate(16,9)\" font-family=\"sans-serif\" font-size=\"10px\" fill=\"#000\" opacity=\"1\">Ravi</text></g></g><path class=\"foreground\" aria-hidden=\"true\" d=\"\" pointer-events=\"none\" display=\"none\"/></g></g></g><path class=\"foreground\" aria-hidden=\"true\" d=\"\" pointer-events=\"none\" display=\"none\"/></g></g><g class=\"mark-text role-legend-title\" pointer-events=\"none\"><text text-anchor=\"start\" transform=\"translate(0,9)\" font-family=\"sans-serif\" font-size=\"11px\" font-weight=\"bold\" fill=\"#000\" opacity=\"1\">Pessoa</text></g></g><path class=\"foreground\" aria-hidden=\"true\" d=\"\" pointer-events=\"none\" display=\"none\"/></g></g><g class=\"mark-group role-title\"><g transform=\"translate(500,-22)\"><path class=\"background\" aria-hidden=\"true\" d=\"M0,0h0v0h0Z\" pointer-events=\"none\"/><g><g class=\"mark-text role-title-text\" role=\"graphics-symbol\" aria-roledescription=\"title\" aria-label=\"Title text 'Desafio de Sempre - Visão Semanal'\" pointer-events=\"none\"><text text-anchor=\"middle\" transform=\"translate(0,10)\" font-family=\"sans-serif\" font-size=\"13px\" font-weight=\"bold\" fill=\"#000\" opacity=\"1\">Desafio de Sempre - Visão Semanal</text></g></g><path class=\"foreground\" aria-hidden=\"true\" d=\"\" pointer-events=\"none\" display=\"none\"/></g></g></g><path class=\"foreground\" aria-hidden=\"true\" d=\"\" display=\"none\"/></g></g></g></svg>\n"
      ],
      "text/plain": [
       "@vlplot(\n",
       "    data={\n",
       "        values=...\n",
       "    },\n",
       "    title=\"Desafio de Sempre - Visão Semanal\",\n",
       "    mark=\"line\",\n",
       "    width=1000,\n",
       "    height=400,\n",
       "    encoding={\n",
       "        color={\n",
       "            field=\"Pessoa\"\n",
       "        },\n",
       "        x={\n",
       "            field=\"Semana\"\n",
       "        },\n",
       "        y={\n",
       "            field=\"Acumulado\"\n",
       "        },\n",
       "        strokeDash={\n",
       "            field=\"Pessoa\"\n",
       "        }\n",
       "    }\n",
       ")"
      ]
     },
     "execution_count": 152,
     "metadata": {},
     "output_type": "execute_result"
    }
   ],
   "source": [
    "@vlplot(\n",
    "    data=df,\n",
    "    title=\"Desafio de Sempre - Visão Semanal\",\n",
    "    mark = :line,\n",
    "    color=:Pessoa,\n",
    "    x=:Semana,\n",
    "    y=:Acumulado,\n",
    "    strokeDash = :Pessoa,\n",
    "    width=1000,\n",
    "    height=400,\n",
    ")"
   ]
  },
  {
   "cell_type": "code",
   "execution_count": null,
   "id": "c597da53-2c00-46b1-85d8-967aa8915766",
   "metadata": {},
   "outputs": [],
   "source": []
  }
 ],
 "metadata": {
  "kernelspec": {
   "display_name": "Julia (4 threads) 1.7.2",
   "language": "julia",
   "name": "julia-(4-threads)-1.7"
  },
  "language_info": {
   "file_extension": ".jl",
   "mimetype": "application/julia",
   "name": "julia",
   "version": "1.7.2"
  }
 },
 "nbformat": 4,
 "nbformat_minor": 5
}
